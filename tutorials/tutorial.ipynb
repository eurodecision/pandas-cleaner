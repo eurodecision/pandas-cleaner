{
 "cells": [
  {
   "cell_type": "markdown",
   "id": "af35f83a",
   "metadata": {},
   "source": [
    "# Pandas Cleaner Tutorial "
   ]
  },
  {
   "cell_type": "markdown",
   "id": "326897f3",
   "metadata": {},
   "source": [
    "Welcome To pandas-cleaner tutorial. \n",
    "\n",
    "This notebook presents the main features offered by the pandas-cleaner package through simple examples."
   ]
  },
  {
   "cell_type": "code",
   "execution_count": 68,
   "id": "fd068446",
   "metadata": {},
   "outputs": [],
   "source": [
    "%reload_ext autoreload\n",
    "%autoreload 2\n",
    "\n",
    "try:\n",
    "    import pdcleaner\n",
    "except ModuleNotFoundError:\n",
    "    print(\"extended path variable\")\n",
    "    import sys\n",
    "    sys.path.append('..')\n",
    "    import pdcleaner"
   ]
  },
  {
   "cell_type": "code",
   "execution_count": 69,
   "id": "3bf04140",
   "metadata": {},
   "outputs": [],
   "source": [
    "import pandas as pd\n",
    "import numpy as np\n",
    "import matplotlib.pyplot as plt\n",
    "\n",
    "np.random.seed(seed=0)"
   ]
  },
  {
   "cell_type": "code",
   "execution_count": 75,
   "id": "d1f7f569-d7c2-4935-8aaa-47affdb1d9c5",
   "metadata": {},
   "outputs": [
    {
     "data": {
      "text/plain": [
       "0     True\n",
       "1    False\n",
       "2     True\n",
       "3    False\n",
       "dtype: bool"
      ]
     },
     "execution_count": 75,
     "metadata": {},
     "output_type": "execute_result"
    }
   ],
   "source": [
    "my_series = pd.Series(['2022-10-01', '2021-06-11', '2019-04-03',' 2020-09-25'])\n",
    "my_series= pd.to_datetime(my_series)\n",
    "my_detector = my_series.cleaner.detect.date_range(lower='2020-06-15', upper='2022-08-05')\n",
    "my_detector.is_error()\n"
   ]
  },
  {
   "cell_type": "code",
   "execution_count": 76,
   "id": "965b7220-3a14-465f-a713-2eba8ea2af25",
   "metadata": {},
   "outputs": [
    {
     "name": "stdout",
     "output_type": "stream",
     "text": [
      "                               Detection report                               \n",
      "==============================================================================\n",
      "Method:                   date_range      Nb samples:                        4\n",
      "Date:                  March 31,2022      Nb errors:                         2\n",
      "Time:                       16:29:24      Nb rows with NaN:                  0\n",
      "------------------------------------------------------------------------------\n",
      "lower                     2020-06-15      upper                     2022-08-05\n",
      "inclusive                       both      \n",
      "==============================================================================\n"
     ]
    }
   ],
   "source": [
    "my_detector.report()"
   ]
  },
  {
   "cell_type": "code",
   "execution_count": 67,
   "id": "f6bd2db5-6971-4ec2-b4d4-0f459ee63a2a",
   "metadata": {},
   "outputs": [
    {
     "data": {
      "text/plain": [
       "Timestamp('1677-09-21 00:12:43.145224193')"
      ]
     },
     "execution_count": 67,
     "metadata": {},
     "output_type": "execute_result"
    }
   ],
   "source": [
    "import datetime\n",
    "pd.Timestamp.min"
   ]
  },
  {
   "cell_type": "code",
   "execution_count": 66,
   "id": "388cdb7d-d465-4362-8852-c27c67c1791c",
   "metadata": {},
   "outputs": [
    {
     "data": {
      "text/plain": [
       "pandas.core.indexes.datetimes.DatetimeIndex"
      ]
     },
     "execution_count": 66,
     "metadata": {},
     "output_type": "execute_result"
    }
   ],
   "source": []
  },
  {
   "cell_type": "markdown",
   "id": "e8217c44",
   "metadata": {},
   "source": [
    "## The data"
   ]
  },
  {
   "cell_type": "markdown",
   "id": "638b7686",
   "metadata": {},
   "source": [
    "In this tutorial, we will be using a small dataset represnting some round fruits/vegetables. Each entry figures the type of product, its price, its diameter, its weight, its family and its pesticide content. \n",
    "\n",
    "The data used in this tutorial is an artificial dataset. To produce the dataset, we, first, created an initial dataset using the notebook *create_data.ipynb* (c.f. *clean_data.csv*). Then, additional errors were manually introduced to produce *data.csv*. "
   ]
  },
  {
   "cell_type": "code",
   "execution_count": 3,
   "id": "e199bc69",
   "metadata": {},
   "outputs": [],
   "source": [
    "data = pd.read_csv(\"data/fruits_data.csv\", index_col=0)"
   ]
  },
  {
   "cell_type": "code",
   "execution_count": 4,
   "id": "22d93d8d",
   "metadata": {},
   "outputs": [
    {
     "data": {
      "text/html": [
       "<div>\n",
       "<style scoped>\n",
       "    .dataframe tbody tr th:only-of-type {\n",
       "        vertical-align: middle;\n",
       "    }\n",
       "\n",
       "    .dataframe tbody tr th {\n",
       "        vertical-align: top;\n",
       "    }\n",
       "\n",
       "    .dataframe thead th {\n",
       "        text-align: right;\n",
       "    }\n",
       "</style>\n",
       "<table border=\"1\" class=\"dataframe\">\n",
       "  <thead>\n",
       "    <tr style=\"text-align: right;\">\n",
       "      <th></th>\n",
       "      <th>category</th>\n",
       "      <th>price(euro)</th>\n",
       "      <th>diameter(cm)</th>\n",
       "      <th>weight(kg)</th>\n",
       "      <th>pesticide_content(mg/kg)</th>\n",
       "      <th>variety</th>\n",
       "    </tr>\n",
       "  </thead>\n",
       "  <tbody>\n",
       "    <tr>\n",
       "      <th>0</th>\n",
       "      <td>navet</td>\n",
       "      <td>NaN</td>\n",
       "      <td>13.4</td>\n",
       "      <td>0.760</td>\n",
       "      <td>0.00525</td>\n",
       "      <td>de Nancy</td>\n",
       "    </tr>\n",
       "    <tr>\n",
       "      <th>1</th>\n",
       "      <td>pomme</td>\n",
       "      <td>-2.53</td>\n",
       "      <td>6.5</td>\n",
       "      <td>0.095</td>\n",
       "      <td>0.00571</td>\n",
       "      <td>granny,</td>\n",
       "    </tr>\n",
       "    <tr>\n",
       "      <th>2</th>\n",
       "      <td>pomme</td>\n",
       "      <td>2.96</td>\n",
       "      <td>6.9</td>\n",
       "      <td>0.153</td>\n",
       "      <td>0.00860</td>\n",
       "      <td>golden</td>\n",
       "    </tr>\n",
       "    <tr>\n",
       "      <th>3</th>\n",
       "      <td>Pomme</td>\n",
       "      <td>2.23</td>\n",
       "      <td>63.0</td>\n",
       "      <td>0.112</td>\n",
       "      <td>0.00473</td>\n",
       "      <td>Granny</td>\n",
       "    </tr>\n",
       "    <tr>\n",
       "      <th>4</th>\n",
       "      <td>pomme</td>\n",
       "      <td>3.18</td>\n",
       "      <td>8.9</td>\n",
       "      <td>0.304</td>\n",
       "      <td>0.00390</td>\n",
       "      <td>granny</td>\n",
       "    </tr>\n",
       "    <tr>\n",
       "      <th>5</th>\n",
       "      <td>pomme</td>\n",
       "      <td>4.85</td>\n",
       "      <td>7.6</td>\n",
       "      <td>212.000</td>\n",
       "      <td>0.00567</td>\n",
       "      <td>granny</td>\n",
       "    </tr>\n",
       "    <tr>\n",
       "      <th>6</th>\n",
       "      <td>pomme</td>\n",
       "      <td>4.43</td>\n",
       "      <td>6.6</td>\n",
       "      <td>0.126</td>\n",
       "      <td>0.00465</td>\n",
       "      <td>granny</td>\n",
       "    </tr>\n",
       "    <tr>\n",
       "      <th>7</th>\n",
       "      <td>pomme</td>\n",
       "      <td>55.00</td>\n",
       "      <td>6.0</td>\n",
       "      <td>0.102</td>\n",
       "      <td>0.00594</td>\n",
       "      <td>granny</td>\n",
       "    </tr>\n",
       "    <tr>\n",
       "      <th>8</th>\n",
       "      <td>cerise</td>\n",
       "      <td>7.30</td>\n",
       "      <td>2.7</td>\n",
       "      <td>0.006</td>\n",
       "      <td>0.00710</td>\n",
       "      <td>bigarrau</td>\n",
       "    </tr>\n",
       "    <tr>\n",
       "      <th>9</th>\n",
       "      <td>cerise</td>\n",
       "      <td>7.24</td>\n",
       "      <td>2.1</td>\n",
       "      <td>0.002</td>\n",
       "      <td>0.00000</td>\n",
       "      <td>amarelles</td>\n",
       "    </tr>\n",
       "  </tbody>\n",
       "</table>\n",
       "</div>"
      ],
      "text/plain": [
       "  category  price(euro)  diameter(cm)  weight(kg)  pesticide_content(mg/kg)  \\\n",
       "0    navet          NaN          13.4       0.760                   0.00525   \n",
       "1    pomme        -2.53           6.5       0.095                   0.00571   \n",
       "2    pomme         2.96           6.9       0.153                   0.00860   \n",
       "3    Pomme         2.23          63.0       0.112                   0.00473   \n",
       "4    pomme         3.18           8.9       0.304                   0.00390   \n",
       "5    pomme         4.85           7.6     212.000                   0.00567   \n",
       "6    pomme         4.43           6.6       0.126                   0.00465   \n",
       "7    pomme        55.00           6.0       0.102                   0.00594   \n",
       "8   cerise         7.30           2.7       0.006                   0.00710   \n",
       "9   cerise         7.24           2.1       0.002                   0.00000   \n",
       "\n",
       "     variety  \n",
       "0   de Nancy  \n",
       "1    granny,  \n",
       "2     golden  \n",
       "3     Granny  \n",
       "4     granny  \n",
       "5     granny  \n",
       "6     granny  \n",
       "7     granny  \n",
       "8   bigarrau  \n",
       "9  amarelles  "
      ]
     },
     "execution_count": 4,
     "metadata": {},
     "output_type": "execute_result"
    }
   ],
   "source": [
    "data.head(10)"
   ]
  },
  {
   "cell_type": "markdown",
   "id": "b9f0f4cb",
   "metadata": {},
   "source": [
    "These few 10 rows of the dataset already contain 9 errors. Can you spot them ?"
   ]
  },
  {
   "cell_type": "markdown",
   "id": "736796a7",
   "metadata": {},
   "source": [
    "Over these few first rows, we observe that there are multiple errors in the dataset.\n",
    "For instance:\n",
    "- The first row, describes a turnip (un navet) which is a vegetable and, therefore, should not be included in a dataset of fruits. \n",
    "- The second row, contains two errors: \n",
    "    - On one hand, the indicated price is negative.\n",
    "    - On the other hand, the variety contains a comma.\n",
    "- The fourth row, contains three errors: \n",
    "    - First, unlike other entries, \"Pomme\" is spelled with a capital p.\n",
    "    - Second, this row indicates an apple (une pomme) whose diameter is 63cm which is clearly an error (maybe it was meant to be in mm).\n",
    "    - Finally, \"Granny\" starts with a capital letter unlike other entries of the variety column.\n",
    "- Row 6 describes a giant apple whose weight is 212 kg.\n",
    "- Row 8 indicates a price of 55€ for a kg of apples.\n",
    "- Finally, \"bigarreaux\" is missplled as \"bigarrau\" in row 9.\n",
    "    \n",
    "It is clear that even for such a small dataset, spotting and correcting the errors is hard to do. So, one can only imagine how tedious it can be when large datasets are involved."
   ]
  },
  {
   "cell_type": "markdown",
   "id": "be3d2b36",
   "metadata": {},
   "source": [
    "## Basic Usage"
   ]
  },
  {
   "cell_type": "markdown",
   "id": "08192c79",
   "metadata": {},
   "source": [
    "The package offers three main functionalities :\n",
    "- Detecting potential errors in pandas dataframes\n",
    "- Analysing the detected errors\n",
    "- Cleaning the detected errors"
   ]
  },
  {
   "cell_type": "markdown",
   "id": "58c6c582",
   "metadata": {},
   "source": [
    "The following example considers the previously introduced dataset. \n",
    "\n",
    "Here is a typical call sequence to pandas-cleaner:"
   ]
  },
  {
   "cell_type": "code",
   "execution_count": 5,
   "id": "288cba5d",
   "metadata": {},
   "outputs": [
    {
     "data": {
      "image/png": "[encoded data removed]",
      "text/plain": [
       "<Figure size 432x288 with 4 Axes>"
      ]
     },
     "metadata": {
      "needs_background": "light"
     },
     "output_type": "display_data"
    },
    {
     "data": {
      "text/html": [
       "<div>\n",
       "<style scoped>\n",
       "    .dataframe tbody tr th:only-of-type {\n",
       "        vertical-align: middle;\n",
       "    }\n",
       "\n",
       "    .dataframe tbody tr th {\n",
       "        vertical-align: top;\n",
       "    }\n",
       "\n",
       "    .dataframe thead th {\n",
       "        text-align: right;\n",
       "    }\n",
       "</style>\n",
       "<table border=\"1\" class=\"dataframe\">\n",
       "  <thead>\n",
       "    <tr style=\"text-align: right;\">\n",
       "      <th></th>\n",
       "      <th>category</th>\n",
       "      <th>price(euro)</th>\n",
       "      <th>diameter(cm)</th>\n",
       "      <th>weight(kg)</th>\n",
       "      <th>pesticide_content(mg/kg)</th>\n",
       "      <th>variety</th>\n",
       "    </tr>\n",
       "  </thead>\n",
       "  <tbody>\n",
       "    <tr>\n",
       "      <th>0</th>\n",
       "      <td>navet</td>\n",
       "      <td>NaN</td>\n",
       "      <td>13.4</td>\n",
       "      <td>0.760</td>\n",
       "      <td>0.00525</td>\n",
       "      <td>de Nancy</td>\n",
       "    </tr>\n",
       "    <tr>\n",
       "      <th>2</th>\n",
       "      <td>pomme</td>\n",
       "      <td>2.96</td>\n",
       "      <td>6.9</td>\n",
       "      <td>0.153</td>\n",
       "      <td>0.00860</td>\n",
       "      <td>golden</td>\n",
       "    </tr>\n",
       "    <tr>\n",
       "      <th>3</th>\n",
       "      <td>Pomme</td>\n",
       "      <td>2.23</td>\n",
       "      <td>63.0</td>\n",
       "      <td>0.112</td>\n",
       "      <td>0.00473</td>\n",
       "      <td>Granny</td>\n",
       "    </tr>\n",
       "    <tr>\n",
       "      <th>4</th>\n",
       "      <td>pomme</td>\n",
       "      <td>3.18</td>\n",
       "      <td>8.9</td>\n",
       "      <td>0.304</td>\n",
       "      <td>0.00390</td>\n",
       "      <td>granny</td>\n",
       "    </tr>\n",
       "    <tr>\n",
       "      <th>5</th>\n",
       "      <td>pomme</td>\n",
       "      <td>4.85</td>\n",
       "      <td>7.6</td>\n",
       "      <td>212.000</td>\n",
       "      <td>0.00567</td>\n",
       "      <td>granny</td>\n",
       "    </tr>\n",
       "    <tr>\n",
       "      <th>...</th>\n",
       "      <td>...</td>\n",
       "      <td>...</td>\n",
       "      <td>...</td>\n",
       "      <td>...</td>\n",
       "      <td>...</td>\n",
       "      <td>...</td>\n",
       "    </tr>\n",
       "    <tr>\n",
       "      <th>94</th>\n",
       "      <td>pomme</td>\n",
       "      <td>3.58</td>\n",
       "      <td>8.7</td>\n",
       "      <td>0.282</td>\n",
       "      <td>0.00735</td>\n",
       "      <td>golden</td>\n",
       "    </tr>\n",
       "    <tr>\n",
       "      <th>95</th>\n",
       "      <td>pomme</td>\n",
       "      <td>1.53</td>\n",
       "      <td>8.9</td>\n",
       "      <td>0.290</td>\n",
       "      <td>0.00741</td>\n",
       "      <td>granny</td>\n",
       "    </tr>\n",
       "    <tr>\n",
       "      <th>97</th>\n",
       "      <td>cerise</td>\n",
       "      <td>11.85</td>\n",
       "      <td>2.1</td>\n",
       "      <td>0.003</td>\n",
       "      <td>0.00502</td>\n",
       "      <td>amarelles</td>\n",
       "    </tr>\n",
       "    <tr>\n",
       "      <th>98</th>\n",
       "      <td>pomme</td>\n",
       "      <td>0.49</td>\n",
       "      <td>7.1</td>\n",
       "      <td>0.157</td>\n",
       "      <td>0.00622</td>\n",
       "      <td>golden</td>\n",
       "    </tr>\n",
       "    <tr>\n",
       "      <th>99</th>\n",
       "      <td>cerise</td>\n",
       "      <td>8.12</td>\n",
       "      <td>3.3</td>\n",
       "      <td>0.012</td>\n",
       "      <td>0.00632</td>\n",
       "      <td>amarelles</td>\n",
       "    </tr>\n",
       "  </tbody>\n",
       "</table>\n",
       "<p>94 rows × 6 columns</p>\n",
       "</div>"
      ],
      "text/plain": [
       "   category  price(euro)  diameter(cm)  weight(kg)  pesticide_content(mg/kg)  \\\n",
       "0     navet          NaN          13.4       0.760                   0.00525   \n",
       "2     pomme         2.96           6.9       0.153                   0.00860   \n",
       "3     Pomme         2.23          63.0       0.112                   0.00473   \n",
       "4     pomme         3.18           8.9       0.304                   0.00390   \n",
       "5     pomme         4.85           7.6     212.000                   0.00567   \n",
       "..      ...          ...           ...         ...                       ...   \n",
       "94    pomme         3.58           8.7       0.282                   0.00735   \n",
       "95    pomme         1.53           8.9       0.290                   0.00741   \n",
       "97   cerise        11.85           2.1       0.003                   0.00502   \n",
       "98    pomme         0.49           7.1       0.157                   0.00622   \n",
       "99   cerise         8.12           3.3       0.012                   0.00632   \n",
       "\n",
       "      variety  \n",
       "0    de Nancy  \n",
       "2      golden  \n",
       "3      Granny  \n",
       "4      granny  \n",
       "5      granny  \n",
       "..        ...  \n",
       "94     golden  \n",
       "95     granny  \n",
       "97  amarelles  \n",
       "98     golden  \n",
       "99  amarelles  \n",
       "\n",
       "[94 rows x 6 columns]"
      ]
     },
     "execution_count": 5,
     "metadata": {},
     "output_type": "execute_result"
    }
   ],
   "source": [
    "# detect errors\n",
    "detector = data[\"price(euro)\"].cleaner.detect('bounded', lower=0., upper=20.)\n",
    "#alternatively, detector = data[\"price(euro)\"].cleaner.detect.bounded(lower=0., upper=20.)\n",
    "\n",
    "# visualize the errors\n",
    "detector.plot(compact=True)\n",
    "plt.show()\n",
    "\n",
    "#clean the dataframe\n",
    "cleaner_df = data.cleaner.clean(detector_obj=detector, method=\"drop\")\n",
    "#alternativey, cleaner_df = data.cleaner.clean.drop(detector_obj=detector)\n",
    "cleaner_df"
   ]
  },
  {
   "cell_type": "markdown",
   "id": "fb1ab18b",
   "metadata": {},
   "source": [
    "### Train and Test Data"
   ]
  },
  {
   "cell_type": "markdown",
   "id": "ec0c133c",
   "metadata": {},
   "source": [
    "If we have two distinct datasets : a train set and a test set, we can transfer the knowledge we have learnt from the initial train data to clean the test data:"
   ]
  },
  {
   "cell_type": "code",
   "execution_count": 6,
   "id": "8d8fbeb5",
   "metadata": {},
   "outputs": [],
   "source": [
    "def split_data(all_data_df, train_fraction, random_state=None):\n",
    "    if not ( 0 < train_fraction < 1):\n",
    "        raise ValueError(\"train_fraction must be strictly between 0 and 1\")\n",
    "    \n",
    "    shuffle_df = all_data_df.sample(frac=1, random_state=random_state)\n",
    "\n",
    "    train_size = int(train_fraction * len(all_data_df))\n",
    "\n",
    "    train_set = shuffle_df[:train_size].copy(deep=True)\n",
    "    test_set = shuffle_df[train_size:].copy(deep=True)\n",
    "    \n",
    "    return train_set, test_set\n",
    "\n",
    "train_df, test_df = split_data(data, train_fraction=0.8, random_state=0)"
   ]
  },
  {
   "cell_type": "code",
   "execution_count": 7,
   "id": "240eaa70",
   "metadata": {},
   "outputs": [
    {
     "data": {
      "text/html": [
       "<div>\n",
       "<style scoped>\n",
       "    .dataframe tbody tr th:only-of-type {\n",
       "        vertical-align: middle;\n",
       "    }\n",
       "\n",
       "    .dataframe tbody tr th {\n",
       "        vertical-align: top;\n",
       "    }\n",
       "\n",
       "    .dataframe thead th {\n",
       "        text-align: right;\n",
       "    }\n",
       "</style>\n",
       "<table border=\"1\" class=\"dataframe\">\n",
       "  <thead>\n",
       "    <tr style=\"text-align: right;\">\n",
       "      <th></th>\n",
       "      <th>category</th>\n",
       "      <th>price(euro)</th>\n",
       "      <th>diameter(cm)</th>\n",
       "      <th>weight(kg)</th>\n",
       "      <th>pesticide_content(mg/kg)</th>\n",
       "      <th>variety</th>\n",
       "    </tr>\n",
       "  </thead>\n",
       "  <tbody>\n",
       "    <tr>\n",
       "      <th>26</th>\n",
       "      <td>cerise</td>\n",
       "      <td>9.69</td>\n",
       "      <td>1.0</td>\n",
       "      <td>0.000</td>\n",
       "      <td>0.00706</td>\n",
       "      <td>bigarreaux</td>\n",
       "    </tr>\n",
       "    <tr>\n",
       "      <th>86</th>\n",
       "      <td>cerise</td>\n",
       "      <td>6.77</td>\n",
       "      <td>2.6</td>\n",
       "      <td>0.005</td>\n",
       "      <td>0.00419</td>\n",
       "      <td>bigarreaux</td>\n",
       "    </tr>\n",
       "    <tr>\n",
       "      <th>2</th>\n",
       "      <td>pomme</td>\n",
       "      <td>2.96</td>\n",
       "      <td>6.9</td>\n",
       "      <td>0.153</td>\n",
       "      <td>0.00860</td>\n",
       "      <td>golden</td>\n",
       "    </tr>\n",
       "    <tr>\n",
       "      <th>55</th>\n",
       "      <td>navet</td>\n",
       "      <td>0.54</td>\n",
       "      <td>9.0</td>\n",
       "      <td>0.242</td>\n",
       "      <td>0.00504</td>\n",
       "      <td>DE NANCY</td>\n",
       "    </tr>\n",
       "    <tr>\n",
       "      <th>75</th>\n",
       "      <td>cerise</td>\n",
       "      <td>-5.07</td>\n",
       "      <td>1.9</td>\n",
       "      <td>0.002</td>\n",
       "      <td>0.00000</td>\n",
       "      <td>amarelles</td>\n",
       "    </tr>\n",
       "  </tbody>\n",
       "</table>\n",
       "</div>"
      ],
      "text/plain": [
       "   category  price(euro)  diameter(cm)  weight(kg)  pesticide_content(mg/kg)  \\\n",
       "26   cerise         9.69           1.0       0.000                   0.00706   \n",
       "86   cerise         6.77           2.6       0.005                   0.00419   \n",
       "2     pomme         2.96           6.9       0.153                   0.00860   \n",
       "55    navet         0.54           9.0       0.242                   0.00504   \n",
       "75   cerise        -5.07           1.9       0.002                   0.00000   \n",
       "\n",
       "       variety  \n",
       "26  bigarreaux  \n",
       "86  bigarreaux  \n",
       "2       golden  \n",
       "55    DE NANCY  \n",
       "75   amarelles  "
      ]
     },
     "execution_count": 7,
     "metadata": {},
     "output_type": "execute_result"
    }
   ],
   "source": [
    "train_df.head(5)"
   ]
  },
  {
   "cell_type": "code",
   "execution_count": 8,
   "id": "de18315f",
   "metadata": {},
   "outputs": [
    {
     "data": {
      "text/html": [
       "<div>\n",
       "<style scoped>\n",
       "    .dataframe tbody tr th:only-of-type {\n",
       "        vertical-align: middle;\n",
       "    }\n",
       "\n",
       "    .dataframe tbody tr th {\n",
       "        vertical-align: top;\n",
       "    }\n",
       "\n",
       "    .dataframe thead th {\n",
       "        text-align: right;\n",
       "    }\n",
       "</style>\n",
       "<table border=\"1\" class=\"dataframe\">\n",
       "  <thead>\n",
       "    <tr style=\"text-align: right;\">\n",
       "      <th></th>\n",
       "      <th>category</th>\n",
       "      <th>price(euro)</th>\n",
       "      <th>diameter(cm)</th>\n",
       "      <th>weight(kg)</th>\n",
       "      <th>pesticide_content(mg/kg)</th>\n",
       "      <th>variety</th>\n",
       "    </tr>\n",
       "  </thead>\n",
       "  <tbody>\n",
       "    <tr>\n",
       "      <th>25</th>\n",
       "      <td>pomme</td>\n",
       "      <td>4.58</td>\n",
       "      <td>8.5</td>\n",
       "      <td>0.287</td>\n",
       "      <td>0.00651</td>\n",
       "      <td>golden</td>\n",
       "    </tr>\n",
       "    <tr>\n",
       "      <th>37</th>\n",
       "      <td>pomme</td>\n",
       "      <td>2.24</td>\n",
       "      <td>9.4</td>\n",
       "      <td>0.700</td>\n",
       "      <td>0.00508</td>\n",
       "      <td>granny</td>\n",
       "    </tr>\n",
       "    <tr>\n",
       "      <th>81</th>\n",
       "      <td>pomme</td>\n",
       "      <td>2.46</td>\n",
       "      <td>6.6</td>\n",
       "      <td>0.134</td>\n",
       "      <td>0.00770</td>\n",
       "      <td>granny</td>\n",
       "    </tr>\n",
       "    <tr>\n",
       "      <th>46</th>\n",
       "      <td>pomme</td>\n",
       "      <td>1.15</td>\n",
       "      <td>6.3</td>\n",
       "      <td>0.115</td>\n",
       "      <td>0.00822</td>\n",
       "      <td>granny</td>\n",
       "    </tr>\n",
       "    <tr>\n",
       "      <th>39</th>\n",
       "      <td>navet</td>\n",
       "      <td>2.20</td>\n",
       "      <td>4.2</td>\n",
       "      <td>0.052</td>\n",
       "      <td>0.00642</td>\n",
       "      <td>de Milan</td>\n",
       "    </tr>\n",
       "  </tbody>\n",
       "</table>\n",
       "</div>"
      ],
      "text/plain": [
       "   category  price(euro)  diameter(cm)  weight(kg)  pesticide_content(mg/kg)  \\\n",
       "25    pomme         4.58           8.5       0.287                   0.00651   \n",
       "37    pomme         2.24           9.4       0.700                   0.00508   \n",
       "81    pomme         2.46           6.6       0.134                   0.00770   \n",
       "46    pomme         1.15           6.3       0.115                   0.00822   \n",
       "39    navet         2.20           4.2       0.052                   0.00642   \n",
       "\n",
       "     variety  \n",
       "25    golden  \n",
       "37    granny  \n",
       "81    granny  \n",
       "46    granny  \n",
       "39  de Milan  "
      ]
     },
     "execution_count": 8,
     "metadata": {},
     "output_type": "execute_result"
    }
   ],
   "source": [
    "test_df.head(5)"
   ]
  },
  {
   "cell_type": "markdown",
   "id": "0ca6c33b",
   "metadata": {},
   "source": [
    "Parametrising (fitting) the detector according to the train data."
   ]
  },
  {
   "cell_type": "code",
   "execution_count": 9,
   "id": "485f3e16",
   "metadata": {},
   "outputs": [
    {
     "name": "stdout",
     "output_type": "stream",
     "text": [
      "shape of train data (80, 6)\n",
      "computed bounds : 0.0013362499999999998, 0.009406250000000001\n",
      "75     0.000000\n",
      "30     0.000000\n",
      "22     0.000000\n",
      "76     0.000445\n",
      "90     0.011000\n",
      "74     0.000000\n",
      "41     0.000000\n",
      "15     0.000000\n",
      "38     0.000000\n",
      "10     0.009920\n",
      "85     0.000000\n",
      "14    56.000000\n",
      "20     0.000000\n",
      "Name: pesticide_content(mg/kg), dtype: float64\n",
      "new shape of train data (67, 6)\n"
     ]
    },
    {
     "data": {
      "text/html": [
       "<div>\n",
       "<style scoped>\n",
       "    .dataframe tbody tr th:only-of-type {\n",
       "        vertical-align: middle;\n",
       "    }\n",
       "\n",
       "    .dataframe tbody tr th {\n",
       "        vertical-align: top;\n",
       "    }\n",
       "\n",
       "    .dataframe thead th {\n",
       "        text-align: right;\n",
       "    }\n",
       "</style>\n",
       "<table border=\"1\" class=\"dataframe\">\n",
       "  <thead>\n",
       "    <tr style=\"text-align: right;\">\n",
       "      <th></th>\n",
       "      <th>category</th>\n",
       "      <th>price(euro)</th>\n",
       "      <th>diameter(cm)</th>\n",
       "      <th>weight(kg)</th>\n",
       "      <th>pesticide_content(mg/kg)</th>\n",
       "      <th>variety</th>\n",
       "    </tr>\n",
       "  </thead>\n",
       "  <tbody>\n",
       "    <tr>\n",
       "      <th>26</th>\n",
       "      <td>cerise</td>\n",
       "      <td>9.69</td>\n",
       "      <td>1.0</td>\n",
       "      <td>0.000</td>\n",
       "      <td>0.00706</td>\n",
       "      <td>bigarreaux</td>\n",
       "    </tr>\n",
       "    <tr>\n",
       "      <th>86</th>\n",
       "      <td>cerise</td>\n",
       "      <td>6.77</td>\n",
       "      <td>2.6</td>\n",
       "      <td>0.005</td>\n",
       "      <td>0.00419</td>\n",
       "      <td>bigarreaux</td>\n",
       "    </tr>\n",
       "    <tr>\n",
       "      <th>2</th>\n",
       "      <td>pomme</td>\n",
       "      <td>2.96</td>\n",
       "      <td>6.9</td>\n",
       "      <td>0.153</td>\n",
       "      <td>0.00860</td>\n",
       "      <td>golden</td>\n",
       "    </tr>\n",
       "    <tr>\n",
       "      <th>55</th>\n",
       "      <td>navet</td>\n",
       "      <td>0.54</td>\n",
       "      <td>9.0</td>\n",
       "      <td>0.242</td>\n",
       "      <td>0.00504</td>\n",
       "      <td>DE NANCY</td>\n",
       "    </tr>\n",
       "    <tr>\n",
       "      <th>93</th>\n",
       "      <td>pomme</td>\n",
       "      <td>2.46</td>\n",
       "      <td>8.9</td>\n",
       "      <td>0.304</td>\n",
       "      <td>0.00848</td>\n",
       "      <td>granny</td>\n",
       "    </tr>\n",
       "    <tr>\n",
       "      <th>...</th>\n",
       "      <td>...</td>\n",
       "      <td>...</td>\n",
       "      <td>...</td>\n",
       "      <td>...</td>\n",
       "      <td>...</td>\n",
       "      <td>...</td>\n",
       "    </tr>\n",
       "    <tr>\n",
       "      <th>98</th>\n",
       "      <td>pomme</td>\n",
       "      <td>0.49</td>\n",
       "      <td>7.1</td>\n",
       "      <td>0.157</td>\n",
       "      <td>0.00622</td>\n",
       "      <td>golden</td>\n",
       "    </tr>\n",
       "    <tr>\n",
       "      <th>69</th>\n",
       "      <td>cerise</td>\n",
       "      <td>6.52</td>\n",
       "      <td>2.1</td>\n",
       "      <td>0.002</td>\n",
       "      <td>0.00594</td>\n",
       "      <td>amarelles</td>\n",
       "    </tr>\n",
       "    <tr>\n",
       "      <th>94</th>\n",
       "      <td>pomme</td>\n",
       "      <td>3.58</td>\n",
       "      <td>8.7</td>\n",
       "      <td>0.282</td>\n",
       "      <td>0.00735</td>\n",
       "      <td>golden</td>\n",
       "    </tr>\n",
       "    <tr>\n",
       "      <th>72</th>\n",
       "      <td>pomme</td>\n",
       "      <td>4.09</td>\n",
       "      <td>7.9</td>\n",
       "      <td>0.222</td>\n",
       "      <td>0.00486</td>\n",
       "      <td>golden</td>\n",
       "    </tr>\n",
       "    <tr>\n",
       "      <th>77</th>\n",
       "      <td>pomme</td>\n",
       "      <td>0.82</td>\n",
       "      <td>6.9</td>\n",
       "      <td>0.145</td>\n",
       "      <td>0.00538</td>\n",
       "      <td>granny</td>\n",
       "    </tr>\n",
       "  </tbody>\n",
       "</table>\n",
       "<p>67 rows × 6 columns</p>\n",
       "</div>"
      ],
      "text/plain": [
       "   category  price(euro)  diameter(cm)  weight(kg)  pesticide_content(mg/kg)  \\\n",
       "26   cerise         9.69           1.0       0.000                   0.00706   \n",
       "86   cerise         6.77           2.6       0.005                   0.00419   \n",
       "2     pomme         2.96           6.9       0.153                   0.00860   \n",
       "55    navet         0.54           9.0       0.242                   0.00504   \n",
       "93    pomme         2.46           8.9       0.304                   0.00848   \n",
       "..      ...          ...           ...         ...                       ...   \n",
       "98    pomme         0.49           7.1       0.157                   0.00622   \n",
       "69   cerise         6.52           2.1       0.002                   0.00594   \n",
       "94    pomme         3.58           8.7       0.282                   0.00735   \n",
       "72    pomme         4.09           7.9       0.222                   0.00486   \n",
       "77    pomme         0.82           6.9       0.145                   0.00538   \n",
       "\n",
       "       variety  \n",
       "26  bigarreaux  \n",
       "86  bigarreaux  \n",
       "2       golden  \n",
       "55    DE NANCY  \n",
       "93      granny  \n",
       "..         ...  \n",
       "98      golden  \n",
       "69   amarelles  \n",
       "94      golden  \n",
       "72      golden  \n",
       "77      granny  \n",
       "\n",
       "[67 rows x 6 columns]"
      ]
     },
     "execution_count": 9,
     "metadata": {},
     "output_type": "execute_result"
    }
   ],
   "source": [
    "# on train set\n",
    "print(f\"shape of train data {train_df.shape}\")\n",
    "train_detector = train_df[\"pesticide_content(mg/kg)\"].cleaner.detect('iqr')\n",
    "print(f\"computed bounds : {train_detector.lower}, {train_detector.upper}\")\n",
    "#print(\"plot...\")\n",
    "#train_detector.plot()\n",
    "#plt.show()\n",
    "print(train_detector.detected)\n",
    "train_df.cleaner.clean(\"drop\", train_detector, inplace=True)\n",
    "print(f\"new shape of train data {train_df.shape}\")\n",
    "train_df"
   ]
  },
  {
   "cell_type": "markdown",
   "id": "9a2c168f",
   "metadata": {},
   "source": [
    "transferring the parameters to the testing detector. "
   ]
  },
  {
   "cell_type": "code",
   "execution_count": 10,
   "id": "f43bd45c",
   "metadata": {},
   "outputs": [
    {
     "name": "stdout",
     "output_type": "stream",
     "text": [
      "shape of test data (20, 6)\n",
      "plot...\n"
     ]
    },
    {
     "data": {
      "image/png": "[encoded data removed]",
      "text/plain": [
       "<Figure size 432x288 with 4 Axes>"
      ]
     },
     "metadata": {
      "needs_background": "light"
     },
     "output_type": "display_data"
    },
    {
     "name": "stdout",
     "output_type": "stream",
     "text": [
      "88    0.000814\n",
      "9     0.000000\n",
      "Name: pesticide_content(mg/kg), dtype: float64\n",
      "new shape of test data (18, 6)\n"
     ]
    },
    {
     "data": {
      "text/html": [
       "<div>\n",
       "<style scoped>\n",
       "    .dataframe tbody tr th:only-of-type {\n",
       "        vertical-align: middle;\n",
       "    }\n",
       "\n",
       "    .dataframe tbody tr th {\n",
       "        vertical-align: top;\n",
       "    }\n",
       "\n",
       "    .dataframe thead th {\n",
       "        text-align: right;\n",
       "    }\n",
       "</style>\n",
       "<table border=\"1\" class=\"dataframe\">\n",
       "  <thead>\n",
       "    <tr style=\"text-align: right;\">\n",
       "      <th></th>\n",
       "      <th>category</th>\n",
       "      <th>price(euro)</th>\n",
       "      <th>diameter(cm)</th>\n",
       "      <th>weight(kg)</th>\n",
       "      <th>pesticide_content(mg/kg)</th>\n",
       "      <th>variety</th>\n",
       "    </tr>\n",
       "  </thead>\n",
       "  <tbody>\n",
       "    <tr>\n",
       "      <th>25</th>\n",
       "      <td>pomme</td>\n",
       "      <td>4.58</td>\n",
       "      <td>8.5</td>\n",
       "      <td>0.287</td>\n",
       "      <td>0.00651</td>\n",
       "      <td>golden</td>\n",
       "    </tr>\n",
       "    <tr>\n",
       "      <th>37</th>\n",
       "      <td>pomme</td>\n",
       "      <td>2.24</td>\n",
       "      <td>9.4</td>\n",
       "      <td>0.700</td>\n",
       "      <td>0.00508</td>\n",
       "      <td>granny</td>\n",
       "    </tr>\n",
       "    <tr>\n",
       "      <th>81</th>\n",
       "      <td>pomme</td>\n",
       "      <td>2.46</td>\n",
       "      <td>6.6</td>\n",
       "      <td>0.134</td>\n",
       "      <td>0.00770</td>\n",
       "      <td>granny</td>\n",
       "    </tr>\n",
       "    <tr>\n",
       "      <th>46</th>\n",
       "      <td>pomme</td>\n",
       "      <td>1.15</td>\n",
       "      <td>6.3</td>\n",
       "      <td>0.115</td>\n",
       "      <td>0.00822</td>\n",
       "      <td>granny</td>\n",
       "    </tr>\n",
       "    <tr>\n",
       "      <th>39</th>\n",
       "      <td>navet</td>\n",
       "      <td>2.20</td>\n",
       "      <td>4.2</td>\n",
       "      <td>0.052</td>\n",
       "      <td>0.00642</td>\n",
       "      <td>de Milan</td>\n",
       "    </tr>\n",
       "    <tr>\n",
       "      <th>65</th>\n",
       "      <td>navet</td>\n",
       "      <td>1.90</td>\n",
       "      <td>10.1</td>\n",
       "      <td>0.334</td>\n",
       "      <td>0.00368</td>\n",
       "      <td>de Nancy</td>\n",
       "    </tr>\n",
       "    <tr>\n",
       "      <th>58</th>\n",
       "      <td>cerise</td>\n",
       "      <td>12.41</td>\n",
       "      <td>2.8</td>\n",
       "      <td>0.008</td>\n",
       "      <td>0.00796</td>\n",
       "      <td>bigarreaux</td>\n",
       "    </tr>\n",
       "    <tr>\n",
       "      <th>12</th>\n",
       "      <td>cerise</td>\n",
       "      <td>8.67</td>\n",
       "      <td>1.5</td>\n",
       "      <td>0.002</td>\n",
       "      <td>0.00640</td>\n",
       "      <td>amarelles</td>\n",
       "    </tr>\n",
       "    <tr>\n",
       "      <th>70</th>\n",
       "      <td>pomme</td>\n",
       "      <td>4.77</td>\n",
       "      <td>5.9</td>\n",
       "      <td>0.077</td>\n",
       "      <td>0.00538</td>\n",
       "      <td>golden</td>\n",
       "    </tr>\n",
       "    <tr>\n",
       "      <th>87</th>\n",
       "      <td>pomme</td>\n",
       "      <td>3.62</td>\n",
       "      <td>8.5</td>\n",
       "      <td>0.269</td>\n",
       "      <td>0.00597</td>\n",
       "      <td>golden</td>\n",
       "    </tr>\n",
       "    <tr>\n",
       "      <th>36</th>\n",
       "      <td>pomme</td>\n",
       "      <td>3.08</td>\n",
       "      <td>7.0</td>\n",
       "      <td>0.177</td>\n",
       "      <td>0.00721</td>\n",
       "      <td>golden</td>\n",
       "    </tr>\n",
       "    <tr>\n",
       "      <th>21</th>\n",
       "      <td>pomme</td>\n",
       "      <td>3.45</td>\n",
       "      <td>5.9</td>\n",
       "      <td>0.073</td>\n",
       "      <td>0.00693</td>\n",
       "      <td>golden</td>\n",
       "    </tr>\n",
       "    <tr>\n",
       "      <th>83</th>\n",
       "      <td>navet</td>\n",
       "      <td>0.90</td>\n",
       "      <td>13.5</td>\n",
       "      <td>0.750</td>\n",
       "      <td>0.00670</td>\n",
       "      <td>de Nancy</td>\n",
       "    </tr>\n",
       "    <tr>\n",
       "      <th>96</th>\n",
       "      <td>pomme</td>\n",
       "      <td>-2.05</td>\n",
       "      <td>5.9</td>\n",
       "      <td>0.070</td>\n",
       "      <td>0.00732</td>\n",
       "      <td>granny</td>\n",
       "    </tr>\n",
       "    <tr>\n",
       "      <th>67</th>\n",
       "      <td>pomme</td>\n",
       "      <td>3.60</td>\n",
       "      <td>6.0</td>\n",
       "      <td>0.087</td>\n",
       "      <td>0.00577</td>\n",
       "      <td>golden</td>\n",
       "    </tr>\n",
       "    <tr>\n",
       "      <th>64</th>\n",
       "      <td>cerise</td>\n",
       "      <td>8.01</td>\n",
       "      <td>1.9</td>\n",
       "      <td>0.003</td>\n",
       "      <td>0.00554</td>\n",
       "      <td>amarelles</td>\n",
       "    </tr>\n",
       "    <tr>\n",
       "      <th>47</th>\n",
       "      <td>pomme</td>\n",
       "      <td>2.48</td>\n",
       "      <td>6.4</td>\n",
       "      <td>0.101</td>\n",
       "      <td>0.00404</td>\n",
       "      <td>granny</td>\n",
       "    </tr>\n",
       "    <tr>\n",
       "      <th>44</th>\n",
       "      <td>pomme</td>\n",
       "      <td>5.80</td>\n",
       "      <td>5.8</td>\n",
       "      <td>0.094</td>\n",
       "      <td>0.00576</td>\n",
       "      <td>golden</td>\n",
       "    </tr>\n",
       "  </tbody>\n",
       "</table>\n",
       "</div>"
      ],
      "text/plain": [
       "   category  price(euro)  diameter(cm)  weight(kg)  pesticide_content(mg/kg)  \\\n",
       "25    pomme         4.58           8.5       0.287                   0.00651   \n",
       "37    pomme         2.24           9.4       0.700                   0.00508   \n",
       "81    pomme         2.46           6.6       0.134                   0.00770   \n",
       "46    pomme         1.15           6.3       0.115                   0.00822   \n",
       "39    navet         2.20           4.2       0.052                   0.00642   \n",
       "65    navet         1.90          10.1       0.334                   0.00368   \n",
       "58   cerise        12.41           2.8       0.008                   0.00796   \n",
       "12   cerise         8.67           1.5       0.002                   0.00640   \n",
       "70    pomme         4.77           5.9       0.077                   0.00538   \n",
       "87    pomme         3.62           8.5       0.269                   0.00597   \n",
       "36    pomme         3.08           7.0       0.177                   0.00721   \n",
       "21    pomme         3.45           5.9       0.073                   0.00693   \n",
       "83    navet         0.90          13.5       0.750                   0.00670   \n",
       "96    pomme        -2.05           5.9       0.070                   0.00732   \n",
       "67    pomme         3.60           6.0       0.087                   0.00577   \n",
       "64   cerise         8.01           1.9       0.003                   0.00554   \n",
       "47    pomme         2.48           6.4       0.101                   0.00404   \n",
       "44    pomme         5.80           5.8       0.094                   0.00576   \n",
       "\n",
       "       variety  \n",
       "25      golden  \n",
       "37      granny  \n",
       "81      granny  \n",
       "46      granny  \n",
       "39    de Milan  \n",
       "65    de Nancy  \n",
       "58  bigarreaux  \n",
       "12   amarelles  \n",
       "70      golden  \n",
       "87      golden  \n",
       "36      golden  \n",
       "21      golden  \n",
       "83    de Nancy  \n",
       "96      granny  \n",
       "67      golden  \n",
       "64   amarelles  \n",
       "47      granny  \n",
       "44      golden  "
      ]
     },
     "execution_count": 10,
     "metadata": {},
     "output_type": "execute_result"
    }
   ],
   "source": [
    "#on test set\n",
    "print(f\"shape of test data {test_df.shape}\")\n",
    "test_detector = test_df[\"pesticide_content(mg/kg)\"].cleaner.detect(train_detector)\n",
    "print(\"plot...\")\n",
    "test_detector.plot()\n",
    "plt.show()\n",
    "print(test_detector.detected)\n",
    "test_df.cleaner.clean(\"drop\", test_detector, inplace=True)\n",
    "print(f\"new shape of test data {test_df.shape}\")\n",
    "test_df"
   ]
  },
  {
   "cell_type": "markdown",
   "id": "104ccab1",
   "metadata": {},
   "source": [
    "Note that the bounds indicated on the plot concerning test data are the same bounds we have computed on the train set.\n",
    "\n",
    "If we had simply created a new 'iqr' detector, the bounds would have been recalculated using only the test data. "
   ]
  },
  {
   "cell_type": "markdown",
   "id": "349525b4",
   "metadata": {},
   "source": [
    "## Detecttion"
   ]
  },
  {
   "cell_type": "markdown",
   "id": "9f290510",
   "metadata": {},
   "source": [
    "Detection refers to identifiying the entries that are invalid in the data. \n",
    "Multiple Detector objects and detection methods are available in pandas-cleaner to allow for the detection of different types of errors.\n",
    "\n",
    "The first step in the detection process is to initialize a detector object that will detect the errors present in the Series. This step is performed using the detect() method. Actually, the detect method simply instantiates a detector objects. The actual detection is performed each time a query is executed.\n",
    "\n",
    "Here's how :\n",
    "```(python)\n",
    "<series>.cleaner.detect(<detector_name>, <detector_params>)\n",
    "```\n",
    "\n",
    "or alternatively:\n",
    "```(python)\n",
    "<series>.cleaner.detect.<detector_name>(<detector_params>)\n",
    "```\n",
    "\n",
    "The method returns an error if the detection method is not recognized.\n",
    "\n",
    "Hereafter, we use a bounded detector as a simple illustration example.\n",
    "\n",
    "Please note that nan values are considered as legitimate values and are not reported as errors."
   ]
  },
  {
   "cell_type": "markdown",
   "id": "472d0442",
   "metadata": {},
   "source": [
    "### Numerical Data"
   ]
  },
  {
   "cell_type": "markdown",
   "id": "6ebe17ba",
   "metadata": {},
   "source": [
    "For now, pandas-cleaner handles two types of numerical data:\n",
    "- bounded distributions\n",
    "- Gaussian distributions"
   ]
  },
  {
   "cell_type": "markdown",
   "id": "a7104d94",
   "metadata": {},
   "source": [
    "#### Bounded Values"
   ]
  },
  {
   "cell_type": "markdown",
   "id": "adc97390",
   "metadata": {},
   "source": [
    "The bounded detection method detects values from a series that are out of some specified bounds. By default, the bounds are set to -inf and +inf.\n",
    "\n",
    "In the considered dataset, the price column contains different values. We already observed that some of these values are negative. One can suppose that the prices must be in a specific range. Say, for example, between 0 and 30.\n",
    "\n",
    "If we set a lower bound to 0 and an upper bound to 30, negative prices will be flagged as errors so are prices higher than 30€."
   ]
  },
  {
   "cell_type": "code",
   "execution_count": 11,
   "id": "57382ab9",
   "metadata": {},
   "outputs": [
    {
     "data": {
      "text/plain": [
       "1      -2.53\n",
       "7      55.00\n",
       "14    644.00\n",
       "43     -5.65\n",
       "75     -5.07\n",
       "96     -2.05\n",
       "Name: price(euro), dtype: float64"
      ]
     },
     "execution_count": 11,
     "metadata": {},
     "output_type": "execute_result"
    }
   ],
   "source": [
    "bounded_detector = data[\"price(euro)\"].cleaner.detect('bounded', lower=0., upper=30)\n",
    "#alternatively:\n",
    "# bounded_detector = data[\"price(euro)\"].cleaner.detect.bounded(lower=0., upper=30)\n",
    "\n",
    "bounded_detector.detected"
   ]
  },
  {
   "cell_type": "markdown",
   "id": "00c12c63",
   "metadata": {},
   "source": [
    "#### Gaussian Distribution"
   ]
  },
  {
   "cell_type": "code",
   "execution_count": 12,
   "id": "87534013",
   "metadata": {},
   "outputs": [],
   "source": [
    "s_gaussian = data[\"pesticide_content(mg/kg)\"]"
   ]
  },
  {
   "cell_type": "markdown",
   "id": "4411d204",
   "metadata": {},
   "source": [
    "##### IQR\n",
    "\n",
    "The IqrSeriesDetector makes use of the IQR (Inter Quantile Range) to detect the allowed values and the erroneous ones.\n",
    "If we note Q25 as the 25th percentile and Q75 as the 75th percentile, then the values outside of the range \n",
    "$$ [Q25 - threshhold * IQR \\quad,\\quad Q75 + threshhold * IQR ] $$\n",
    "are considered as errors. "
   ]
  },
  {
   "cell_type": "code",
   "execution_count": 13,
   "id": "993cecd8",
   "metadata": {},
   "outputs": [
    {
     "name": "stdout",
     "output_type": "stream",
     "text": [
      "Q25 : 0.0044875\n",
      "Q75 : 0.0067075\n",
      "IQR : 0.0022199999999999998\n",
      "lowest allowed value : 0.0011575000000000005\n",
      "highest allowed value : 0.0100375\n"
     ]
    },
    {
     "data": {
      "text/plain": [
       "9      0.000000\n",
       "14    56.000000\n",
       "15     0.000000\n",
       "20     0.000000\n",
       "22     0.000000\n",
       "30     0.000000\n",
       "38     0.000000\n",
       "41     0.000000\n",
       "74     0.000000\n",
       "75     0.000000\n",
       "76     0.000445\n",
       "85     0.000000\n",
       "88     0.000814\n",
       "90     0.011000\n",
       "Name: pesticide_content(mg/kg), dtype: float64"
      ]
     },
     "execution_count": 13,
     "metadata": {},
     "output_type": "execute_result"
    }
   ],
   "source": [
    "iqr_detector = s_gaussian.cleaner.detect('iqr', threshold=1.5)\n",
    "\n",
    "print(f\"Q25 : {iqr_detector.q25}\")\n",
    "print(f\"Q75 : {iqr_detector.q75}\")\n",
    "print(f\"IQR : {iqr_detector.iqr}\")\n",
    "\n",
    "print(f\"lowest allowed value : {iqr_detector.lower}\" )\n",
    "print(f\"highest allowed value : {iqr_detector.upper}\" )\n",
    "\n",
    "iqr_detector.detected"
   ]
  },
  {
   "cell_type": "markdown",
   "id": "1c9d0f4c",
   "metadata": {},
   "source": [
    "##### Quantiles"
   ]
  },
  {
   "cell_type": "markdown",
   "id": "ebdc49f5",
   "metadata": {},
   "source": [
    "The QuantilesSeriesDetector considers a lower and an upper quantile as parameters.\n",
    "Values that are outside of the range determined by the quantiles are considered as errors."
   ]
  },
  {
   "cell_type": "code",
   "execution_count": 14,
   "id": "97fdd9c9",
   "metadata": {},
   "outputs": [
    {
     "name": "stdout",
     "output_type": "stream",
     "text": [
      "lower quantile : 0.1\n",
      "value at the lower quantile : 0.00040050000000000014\n",
      "upper quantile : 0.9\n",
      "value at the upper quantile : 0.007971\n"
     ]
    },
    {
     "data": {
      "text/plain": [
       "2      0.00860\n",
       "9      0.00000\n",
       "10     0.00992\n",
       "11     0.00807\n",
       "14    56.00000\n",
       "15     0.00000\n",
       "19     0.00831\n",
       "20     0.00000\n",
       "22     0.00000\n",
       "30     0.00000\n",
       "38     0.00000\n",
       "41     0.00000\n",
       "46     0.00822\n",
       "61     0.00852\n",
       "74     0.00000\n",
       "75     0.00000\n",
       "85     0.00000\n",
       "90     0.01100\n",
       "92     0.00832\n",
       "93     0.00848\n",
       "Name: pesticide_content(mg/kg), dtype: float64"
      ]
     },
     "execution_count": 14,
     "metadata": {},
     "output_type": "execute_result"
    }
   ],
   "source": [
    "quantiles_detector = s_gaussian.cleaner.detect('quantiles', lowerq=0.1, upperq=0.9)\n",
    "\n",
    "print(f\"lower quantile : {quantiles_detector.lowerq}\")\n",
    "print(f\"value at the lower quantile : {quantiles_detector.lower}\")\n",
    "print(f\"upper quantile : {quantiles_detector.upperq}\")\n",
    "print(f\"value at the upper quantile : {quantiles_detector.upper}\")\n",
    "\n",
    "quantiles_detector.detected"
   ]
  },
  {
   "cell_type": "markdown",
   "id": "b98a9aa8",
   "metadata": {},
   "source": [
    "### Categorical Data"
   ]
  },
  {
   "cell_type": "markdown",
   "id": "b491fe1c",
   "metadata": {},
   "source": [
    "Pandas-cleaner offers multiple detection methods that can handle categorical data. these can help detect and treat errors over object data. For the considered dataset, these could be useful to handle errors in the category and variety columns."
   ]
  },
  {
   "cell_type": "code",
   "execution_count": 15,
   "id": "4c901fef",
   "metadata": {},
   "outputs": [],
   "source": [
    "s_categorical = data[\"category\"]"
   ]
  },
  {
   "cell_type": "markdown",
   "id": "74404bf8",
   "metadata": {},
   "source": [
    "#### Values"
   ]
  },
  {
   "cell_type": "markdown",
   "id": "b4f1a211",
   "metadata": {},
   "source": [
    "The ValuesSeriesDetector considers a list of allowed values. Entries that are not in the given list are considered as errors.\n",
    "\n",
    "For example, the considered dataset is supposed to include only fruits. However, some rows concern turnip (navet) which is a vegetable not a fruit. We can use the ValuesSeriesDetector to only allow specific values for example apples (\"pomme\") and cherries (\"cerise\")"
   ]
  },
  {
   "cell_type": "code",
   "execution_count": 16,
   "id": "bad34d06",
   "metadata": {},
   "outputs": [
    {
     "name": "stdout",
     "output_type": "stream",
     "text": [
      "allowed values : ['pomme', 'cerise']\n"
     ]
    },
    {
     "data": {
      "text/plain": [
       "0     navet\n",
       "3     Pomme\n",
       "15    navet\n",
       "16    navet\n",
       "18    navet\n",
       "35    navet\n",
       "38    navet\n",
       "39    navet\n",
       "41    navet\n",
       "45    navet\n",
       "52    navet\n",
       "55    navet\n",
       "56    navet\n",
       "61    navet\n",
       "65    navet\n",
       "83    navet\n",
       "Name: category, dtype: object"
      ]
     },
     "execution_count": 16,
     "metadata": {},
     "output_type": "execute_result"
    }
   ],
   "source": [
    "values_detector = s_categorical.cleaner.detect('values', values_list=[\"pomme\", \"cerise\"])\n",
    "\n",
    "print(f\"allowed values : {values_detector.values_list}\")\n",
    "\n",
    "values_detector.detected"
   ]
  },
  {
   "cell_type": "markdown",
   "id": "c41dc9d4",
   "metadata": {},
   "source": [
    "#### Value Counts"
   ]
  },
  {
   "cell_type": "markdown",
   "id": "755ff45d",
   "metadata": {},
   "source": [
    "The ValueCountsSeriesDetector considers that the values that appear only a few times are errors. For that, a minimum occurence value is given. Only values that appear more than the indicated minimum occurence number are considered as not erroneous. This emanates from the assumption that rare data are most likely errors."
   ]
  },
  {
   "cell_type": "code",
   "execution_count": 17,
   "id": "5195d129",
   "metadata": {},
   "outputs": [
    {
     "data": {
      "text/plain": [
       "pomme     48\n",
       "cerise    36\n",
       "navet     15\n",
       "Pomme      1\n",
       "Name: category, dtype: int64"
      ]
     },
     "execution_count": 17,
     "metadata": {},
     "output_type": "execute_result"
    }
   ],
   "source": [
    "# values frequencies\n",
    "s_categorical.value_counts()"
   ]
  },
  {
   "cell_type": "code",
   "execution_count": 18,
   "id": "918d36eb",
   "metadata": {},
   "outputs": [
    {
     "name": "stdout",
     "output_type": "stream",
     "text": [
      "allowed values : ['pomme', 'cerise']\n",
      "erroneous entries :\n",
      "0     navet\n",
      "3     Pomme\n",
      "15    navet\n",
      "16    navet\n",
      "18    navet\n",
      "35    navet\n",
      "38    navet\n",
      "39    navet\n",
      "41    navet\n",
      "45    navet\n",
      "52    navet\n",
      "55    navet\n",
      "56    navet\n",
      "61    navet\n",
      "65    navet\n",
      "83    navet\n",
      "Name: category, dtype: object\n"
     ]
    }
   ],
   "source": [
    "counts_detector = s_categorical.cleaner.detect('counts', n=15)\n",
    "\n",
    "print(f\"allowed values : {counts_detector.values_list}\")\n",
    "\n",
    "print(f\"erroneous entries :\\n{counts_detector.detected}\")"
   ]
  },
  {
   "cell_type": "markdown",
   "id": "ca269b6f",
   "metadata": {},
   "source": [
    "#### Values Frequency"
   ]
  },
  {
   "cell_type": "markdown",
   "id": "73d6ca4e",
   "metadata": {},
   "source": [
    "The ValuesFreqSeriesDetector considers the frequencies of values in the pandas object. That is the ratio between the number of appearances of a value and the total number of non-missing data.\n",
    "Given a minimum frequency, values that appear in the dataframe with a lower frequency are considered as errors.  "
   ]
  },
  {
   "cell_type": "code",
   "execution_count": 19,
   "id": "bdc81f3d",
   "metadata": {},
   "outputs": [
    {
     "data": {
      "text/plain": [
       "pomme     0.48\n",
       "cerise    0.36\n",
       "navet     0.15\n",
       "Pomme     0.01\n",
       "Name: category, dtype: float64"
      ]
     },
     "execution_count": 19,
     "metadata": {},
     "output_type": "execute_result"
    }
   ],
   "source": [
    "# values frequencies\n",
    "s_categorical.value_counts(normalize=True)"
   ]
  },
  {
   "cell_type": "code",
   "execution_count": 20,
   "id": "0d107acd",
   "metadata": {},
   "outputs": [
    {
     "name": "stdout",
     "output_type": "stream",
     "text": [
      "allowed values : ['pomme', 'cerise']\n"
     ]
    },
    {
     "data": {
      "text/plain": [
       "0     navet\n",
       "3     Pomme\n",
       "15    navet\n",
       "16    navet\n",
       "18    navet\n",
       "35    navet\n",
       "38    navet\n",
       "39    navet\n",
       "41    navet\n",
       "45    navet\n",
       "52    navet\n",
       "55    navet\n",
       "56    navet\n",
       "61    navet\n",
       "65    navet\n",
       "83    navet\n",
       "Name: category, dtype: object"
      ]
     },
     "execution_count": 20,
     "metadata": {},
     "output_type": "execute_result"
    }
   ],
   "source": [
    "frequency_detector = s_categorical.cleaner.detect('freq', freq=0.15)\n",
    "\n",
    "print(f\"allowed values : {frequency_detector.values_list}\")\n",
    "\n",
    "frequency_detector.detected"
   ]
  },
  {
   "cell_type": "markdown",
   "id": "f8be0b78",
   "metadata": {},
   "source": [
    "#### Patterns"
   ]
  },
  {
   "cell_type": "markdown",
   "id": "1ec4168c",
   "metadata": {},
   "source": [
    "The PatternSeriesDetector detects errors based on a regex pattern. Entries that do not match the specified pattern are considered as errors.\n",
    "\n",
    "This provides multiple opportunities to test the values present in a series."
   ]
  },
  {
   "cell_type": "markdown",
   "id": "18f617a5",
   "metadata": {},
   "source": [
    "Here we suppose that the variety entries are alphabetic, start with a lower case and may include spacing caracters:"
   ]
  },
  {
   "cell_type": "code",
   "execution_count": 21,
   "id": "8773e853",
   "metadata": {},
   "outputs": [
    {
     "data": {
      "text/plain": [
       "1       granny,\n",
       "3        Granny\n",
       "18    de, Milan\n",
       "29      golden2\n",
       "38     de.Milan\n",
       "45     Milan de\n",
       "55     DE NANCY\n",
       "Name: variety, dtype: object"
      ]
     },
     "execution_count": 21,
     "metadata": {},
     "output_type": "execute_result"
    }
   ],
   "source": [
    "pattern_detector_1 = data[\"variety\"].cleaner.detect('pattern', pattern=r\"[a-z][a-zA-Z\\s]*\", mode=\"fullmatch\")\n",
    "pattern_detector_1.detected"
   ]
  },
  {
   "cell_type": "markdown",
   "id": "33fb1787",
   "metadata": {},
   "source": [
    "Note that multiple matching modes are available and can be parametrised using the **mode** argument. The default mode is *match* which checks if there is a match to the regex at the beginning of the string.\n",
    "\n",
    "In the following, we simply change the matching mode and the 'golden2' entry becomes allowed."
   ]
  },
  {
   "cell_type": "code",
   "execution_count": 22,
   "id": "4615edfb",
   "metadata": {},
   "outputs": [
    {
     "data": {
      "text/plain": [
       "3       Granny\n",
       "45    Milan de\n",
       "55    DE NANCY\n",
       "Name: variety, dtype: object"
      ]
     },
     "execution_count": 22,
     "metadata": {},
     "output_type": "execute_result"
    }
   ],
   "source": [
    "pattern_detector_1 = data[\"variety\"].cleaner.detect('pattern', pattern=r\"[a-z][a-zA-Z\\s]*\", mode=\"match\")\n",
    "pattern_detector_1.detected"
   ]
  },
  {
   "cell_type": "markdown",
   "id": "82d20aa0",
   "metadata": {},
   "source": [
    "the regular expression checks are case sensitive by default. The **case** argument allows to ignore case-sensitivity.\n",
    "\n",
    "In the following, changing the case argument to *False* allows to consider the 'Granny' entry as allowed."
   ]
  },
  {
   "cell_type": "code",
   "execution_count": 23,
   "id": "c9bd257d",
   "metadata": {},
   "outputs": [
    {
     "data": {
      "text/plain": [
       "1       granny,\n",
       "18    de, Milan\n",
       "29      golden2\n",
       "38     de.Milan\n",
       "Name: variety, dtype: object"
      ]
     },
     "execution_count": 23,
     "metadata": {},
     "output_type": "execute_result"
    }
   ],
   "source": [
    "pattern_detector_1 = data[\"variety\"].cleaner.detect('pattern', pattern=r\"[a-z][a-z\\s]*\", case=False, mode=\"fullmatch\")\n",
    "pattern_detector_1.detected"
   ]
  },
  {
   "cell_type": "markdown",
   "id": "6ce3a080",
   "metadata": {},
   "source": [
    "#### Key Collision"
   ]
  },
  {
   "cell_type": "markdown",
   "id": "2acf5f61",
   "metadata": {},
   "source": [
    "When dealing with datasets that contain text entries, it is frequent to have either some entries that are misspelled or a few values that are not exactly equal but that refer to the same thing.\n",
    "\n",
    "In the considered dataset, the text column *variety* provides an example of such data column. It indicates the variety of the fruit and therefore has a few possible values. To help with data analysis entries referring to a same variety should be indentical. However, the variety \"de Milan\" for example is written differently through the dataset (\"de Milan\", \"de milan\", \"de, Milan\", \"Milan de\" and \"de.Milan\"). "
   ]
  },
  {
   "cell_type": "markdown",
   "id": "0696a564",
   "metadata": {},
   "source": [
    "The KeyCollisionSeriesDetector detects entries that may be alternative spellings of the same thing. "
   ]
  },
  {
   "cell_type": "code",
   "execution_count": 24,
   "id": "e064cfb6",
   "metadata": {},
   "outputs": [
    {
     "name": "stdout",
     "output_type": "stream",
     "text": [
      "Entries that have detected alternative representations\n"
     ]
    },
    {
     "data": {
      "text/plain": [
       "1       granny,\n",
       "3        Granny\n",
       "18    de, Milan\n",
       "29      golden2\n",
       "38     de.Milan\n",
       "41     de milan\n",
       "45     Milan de\n",
       "55     DE NANCY\n",
       "Name: variety, dtype: object"
      ]
     },
     "execution_count": 24,
     "metadata": {},
     "output_type": "execute_result"
    }
   ],
   "source": [
    "keycollision_detector = data[\"variety\"].cleaner.detect('keycollision', keys=\"fingerprint\")\n",
    "print(\"Entries that have detected alternative representations\")\n",
    "keycollision_detector.detected"
   ]
  },
  {
   "cell_type": "markdown",
   "id": "2075e75f",
   "metadata": {},
   "source": [
    "For now, key collision uses a fingerprint algorithm that is mainly effective with punctuation and case-sensitivity issues. Misspelling errors might be considered as different entries and may not be detected by the algorithm. "
   ]
  },
  {
   "cell_type": "markdown",
   "id": "b84cdd85",
   "metadata": {},
   "source": [
    "The dictionary of the detected fingerprints and their considered representation can be listed using the following instruction:"
   ]
  },
  {
   "cell_type": "code",
   "execution_count": 25,
   "id": "87e28c13",
   "metadata": {},
   "outputs": [
    {
     "data": {
      "text/plain": [
       "{'de nancy': 'de Nancy',\n",
       " 'granny': 'granny',\n",
       " 'golden': 'golden',\n",
       " 'bigarrau': 'bigarrau',\n",
       " 'amarelles': 'amarelles',\n",
       " 'bigarreaux': 'bigarreaux',\n",
       " 'de milan': 'de Milan'}"
      ]
     },
     "execution_count": 25,
     "metadata": {},
     "output_type": "execute_result"
    }
   ],
   "source": [
    "keycollision_detector.dict_keys"
   ]
  },
  {
   "cell_type": "markdown",
   "id": "3e22ca70",
   "metadata": {},
   "source": [
    "## Errors Information"
   ]
  },
  {
   "cell_type": "markdown",
   "id": "694fbdcd",
   "metadata": {},
   "source": [
    "Once the error detector is initialized, multiple queries can be performed to analyse the series and get information about the errors present in the data."
   ]
  },
  {
   "cell_type": "markdown",
   "id": "4a21a8de",
   "metadata": {},
   "source": [
    "### Error Report"
   ]
  },
  {
   "cell_type": "code",
   "execution_count": 26,
   "id": "cf612284",
   "metadata": {},
   "outputs": [
    {
     "name": "stdout",
     "output_type": "stream",
     "text": [
      "The error report : \n",
      "\n",
      " bounded : 6 errors detected among 100 samples \n",
      "1      -2.53\n",
      "7      55.00\n",
      "14    644.00\n",
      "43     -5.65\n",
      "75     -5.07\n",
      "96     -2.05\n",
      "Name: price(euro), dtype: float64\n"
     ]
    }
   ],
   "source": [
    "# generate an error report\n",
    "errors_report = bounded_detector.report()\n",
    "print(\"The error report : \\n\\n\", errors_report)"
   ]
  },
  {
   "cell_type": "markdown",
   "id": "fea1d4ba",
   "metadata": {},
   "source": [
    "### Number of errors"
   ]
  },
  {
   "cell_type": "code",
   "execution_count": 27,
   "id": "46543067",
   "metadata": {},
   "outputs": [
    {
     "name": "stdout",
     "output_type": "stream",
     "text": [
      "The series contains 6 errors\n"
     ]
    }
   ],
   "source": [
    "# number of errors\n",
    "print(\"The series contains %d errors\" % bounded_detector.n_errors)"
   ]
  },
  {
   "cell_type": "markdown",
   "id": "11728e0c",
   "metadata": {},
   "source": [
    "### List Detected errors"
   ]
  },
  {
   "cell_type": "markdown",
   "id": "6dd520a0",
   "metadata": {},
   "source": [
    "the errouneous entries can be extracted using the method detected illustrated below. Alternatively, they can be retrieved using is_error or not_error (which allows simply to retrieve valid entries)."
   ]
  },
  {
   "cell_type": "code",
   "execution_count": 28,
   "id": "0f6fa1da",
   "metadata": {},
   "outputs": [
    {
     "data": {
      "text/plain": [
       "1      -2.53\n",
       "7      55.00\n",
       "14    644.00\n",
       "43     -5.65\n",
       "75     -5.07\n",
       "96     -2.05\n",
       "Name: price(euro), dtype: float64"
      ]
     },
     "execution_count": 28,
     "metadata": {},
     "output_type": "execute_result"
    }
   ],
   "source": [
    "bounded_detector.detected"
   ]
  },
  {
   "cell_type": "markdown",
   "id": "090ea236",
   "metadata": {},
   "source": [
    "### Error Indicators"
   ]
  },
  {
   "cell_type": "markdown",
   "id": "1f644b51",
   "metadata": {},
   "source": [
    "it is possible to print a boolean series representing if a given entry was detected as error or not.\n",
    "The methods is_error and not_error allow doing so: "
   ]
  },
  {
   "cell_type": "code",
   "execution_count": 29,
   "id": "63550a83",
   "metadata": {},
   "outputs": [
    {
     "data": {
      "text/plain": [
       "0     False\n",
       "1      True\n",
       "2     False\n",
       "3     False\n",
       "4     False\n",
       "      ...  \n",
       "95    False\n",
       "96     True\n",
       "97    False\n",
       "98    False\n",
       "99    False\n",
       "Length: 100, dtype: bool"
      ]
     },
     "execution_count": 29,
     "metadata": {},
     "output_type": "execute_result"
    }
   ],
   "source": [
    "# indicate if row is erroneous\n",
    "bounded_detector.is_error()"
   ]
  },
  {
   "cell_type": "code",
   "execution_count": 30,
   "id": "42253796",
   "metadata": {},
   "outputs": [
    {
     "data": {
      "text/plain": [
       "0      True\n",
       "1     False\n",
       "2      True\n",
       "3      True\n",
       "4      True\n",
       "      ...  \n",
       "95     True\n",
       "96    False\n",
       "97     True\n",
       "98     True\n",
       "99     True\n",
       "Length: 100, dtype: bool"
      ]
     },
     "execution_count": 30,
     "metadata": {},
     "output_type": "execute_result"
    }
   ],
   "source": [
    "# indicate if row is correct\n",
    "bounded_detector.not_error()"
   ]
  },
  {
   "cell_type": "markdown",
   "id": "2e3098bb",
   "metadata": {},
   "source": [
    "## Visualization"
   ]
  },
  {
   "cell_type": "markdown",
   "id": "b84bcef1",
   "metadata": {},
   "source": [
    "### Numerical series"
   ]
  },
  {
   "cell_type": "markdown",
   "id": "d30e91ab",
   "metadata": {},
   "source": [
    "Pandas-cleaner offers a plotting method for numerical detectors.\n",
    "It plots a visualization of the data contained in the treated series:\n",
    "a scatter plot of the data,\n",
    "the distribution of the data (histogram and kde),\n",
    "and a boxplot.\n",
    "\n",
    "The coloring emphasizes the erroneous data. In addition, two horizontal lines delimit the allowed values. "
   ]
  },
  {
   "cell_type": "code",
   "execution_count": 31,
   "id": "0efbc918",
   "metadata": {},
   "outputs": [
    {
     "data": {
      "image/png": "[encoded data removed]",
      "text/plain": [
       "<Figure size 432x288 with 4 Axes>"
      ]
     },
     "metadata": {
      "needs_background": "light"
     },
     "output_type": "display_data"
    }
   ],
   "source": [
    "axs = data[\"price(euro)\"].cleaner.detect('bounded', lower=0., upper=30).plot()"
   ]
  },
  {
   "cell_type": "markdown",
   "id": "90a516e0",
   "metadata": {},
   "source": [
    "In the preceding graph, outliers make the plot much less interesting : interest points are ravelled and the distribution very dense. To focus on interest valid data points, the **compact** argument can be set to *True*  allowing to better visualize the data distribution, ommitting outiliers and explicitly displaying the number of errors."
   ]
  },
  {
   "cell_type": "code",
   "execution_count": 32,
   "id": "dbec3828",
   "metadata": {},
   "outputs": [
    {
     "data": {
      "image/png": "[encoded data removed]",
      "text/plain": [
       "<Figure size 864x432 with 4 Axes>"
      ]
     },
     "metadata": {
      "needs_background": "light"
     },
     "output_type": "display_data"
    }
   ],
   "source": [
    "axs = data[\"price(euro)\"].cleaner.detect('bounded', lower=0., upper=30)\\\n",
    "                    .plot(color='blue', errors_color='red', compact=True, limits=True, figsize=(12,6))"
   ]
  },
  {
   "cell_type": "markdown",
   "id": "946fd049",
   "metadata": {},
   "source": [
    "### Key Collision"
   ]
  },
  {
   "cell_type": "markdown",
   "id": "8b541e28",
   "metadata": {},
   "source": [
    "Pandas-cleaner offers a plotting method for the keycollision detector as well.\n",
    "This makes it easier to visualize the different legal values detected by the keycollision algorithm and how many different representations there are for each legal value."
   ]
  },
  {
   "cell_type": "code",
   "execution_count": 33,
   "id": "40300897",
   "metadata": {},
   "outputs": [
    {
     "data": {
      "image/png": "[encoded data removed]",
      "text/plain": [
       "<Figure size 432x288 with 1 Axes>"
      ]
     },
     "metadata": {
      "needs_background": "light"
     },
     "output_type": "display_data"
    }
   ],
   "source": [
    "axs = data[\"variety\"].cleaner.detect('keycollision').plot()"
   ]
  },
  {
   "cell_type": "markdown",
   "id": "19e9e79d",
   "metadata": {},
   "source": [
    "The graph makes it easy to visualize the legal values. This helps to both explore the dataset and evaluate the relevance of the keycollision algorithm. \n",
    "\n",
    "Here, we can easily see, for example, that the \"granny\" entry was represented with three distinct values.\n",
    "The graph also shows the values kept by the keycollision algorithm. For instance, we can note that the key collision algorithm failed to spot the misspelling of \"bigarrau\" and considered it as a distinct legal value while it should have replaced it with \"bigarreaux\"."
   ]
  },
  {
   "cell_type": "markdown",
   "id": "702ddf65",
   "metadata": {},
   "source": [
    "The plotting method offers options to compact the graph and focus on some part of the data by plotting only a given number of most and least frequent entries:"
   ]
  },
  {
   "cell_type": "code",
   "execution_count": 34,
   "id": "f42a1637",
   "metadata": {},
   "outputs": [
    {
     "data": {
      "image/png": "[encoded data removed]",
      "text/plain": [
       "<Figure size 576x288 with 1 Axes>"
      ]
     },
     "metadata": {
      "needs_background": "light"
     },
     "output_type": "display_data"
    }
   ],
   "source": [
    "axs = data[\"variety\"].cleaner.detect('keycollision')\\\n",
    "                    .plot(cmap='cividis', not_displayed_color='red', nfirst=3, nlast=2, figsize=(8,4))"
   ]
  },
  {
   "cell_type": "markdown",
   "id": "10913944",
   "metadata": {},
   "source": [
    "## Cleaning"
   ]
  },
  {
   "cell_type": "markdown",
   "id": "91dc6d79",
   "metadata": {},
   "source": [
    "Pandas-cleaner offers multiple methods to clean the detected errors. These can be listed by running :\n",
    "```(python)\n",
    "pdcleaner.series_cleaning_methods.keys()\n",
    "```\n",
    "\n",
    "The cleaning methods are used to replace the detected errors with more relevent values.\n",
    "Cleaning methods can be called on dataframes even if the detection methods were initially applied on a column of the dataframe. \n",
    "The replacement can be done inplace by modifying the same pandas object, or by creating a modified copy of it.\n",
    "\n",
    "Note that nan values are not considered as errors and are kept intact."
   ]
  },
  {
   "cell_type": "markdown",
   "id": "b091c71c",
   "metadata": {},
   "source": [
    "### Clip\n",
    "For bounded detectors, clipping refers to replacing the detected errors with the bounds. Thus, if a value is too high it will be replaced by the highest value allowed, while low values will be replaced by the minimum value allowed."
   ]
  },
  {
   "cell_type": "code",
   "execution_count": 35,
   "id": "abbf2d43",
   "metadata": {},
   "outputs": [
    {
     "name": "stdout",
     "output_type": "stream",
     "text": [
      "lowest value allowed : 0.00040050000000000014\n",
      "highest value allowed : 0.007971\n"
     ]
    },
    {
     "data": {
      "text/plain": [
       "2     0.007971\n",
       "9     0.000401\n",
       "10    0.007971\n",
       "11    0.007971\n",
       "14    0.007971\n",
       "15    0.000401\n",
       "19    0.007971\n",
       "20    0.000401\n",
       "22    0.000401\n",
       "30    0.000401\n",
       "38    0.000401\n",
       "41    0.000401\n",
       "46    0.007971\n",
       "61    0.007971\n",
       "74    0.000401\n",
       "75    0.000401\n",
       "85    0.000401\n",
       "90    0.007971\n",
       "92    0.007971\n",
       "93    0.007971\n",
       "Name: pesticide_content(mg/kg), dtype: float64"
      ]
     },
     "execution_count": 35,
     "metadata": {},
     "output_type": "execute_result"
    }
   ],
   "source": [
    "print(f\"lowest value allowed : {quantiles_detector.lower}\")\n",
    "print(f\"highest value allowed : {quantiles_detector.upper}\")\n",
    "s_gaussian.cleaner.clean(detector_obj=quantiles_detector, method=\"clip\")[quantiles_detector.index]"
   ]
  },
  {
   "cell_type": "markdown",
   "id": "5c0be69d",
   "metadata": {},
   "source": [
    "### To Na\n",
    "Pandas-cleaner allows to simply replace the values indicating errors with Na values.\n",
    "This may make the errors easier to spot and homogenize the process of treating both Na values and errors in the data. This also allows treating errors with methods like fillna."
   ]
  },
  {
   "cell_type": "code",
   "execution_count": 36,
   "id": "98ab10c1",
   "metadata": {},
   "outputs": [
    {
     "data": {
      "text/plain": [
       "2    NaN\n",
       "9    NaN\n",
       "10   NaN\n",
       "11   NaN\n",
       "14   NaN\n",
       "15   NaN\n",
       "19   NaN\n",
       "20   NaN\n",
       "22   NaN\n",
       "30   NaN\n",
       "38   NaN\n",
       "41   NaN\n",
       "46   NaN\n",
       "61   NaN\n",
       "74   NaN\n",
       "75   NaN\n",
       "85   NaN\n",
       "90   NaN\n",
       "92   NaN\n",
       "93   NaN\n",
       "Name: pesticide_content(mg/kg), dtype: float64"
      ]
     },
     "execution_count": 36,
     "metadata": {},
     "output_type": "execute_result"
    }
   ],
   "source": [
    "s_gaussian.cleaner.clean(detector_obj=quantiles_detector, method=\"to_na\")[quantiles_detector.index]"
   ]
  },
  {
   "cell_type": "markdown",
   "id": "f2ceae48",
   "metadata": {},
   "source": [
    "### Replacement\n",
    "The replacement cleaning method allows replacing detected errors with a specified value.\n",
    "This method can be seen as an equivalent of fillna but in the case of detected errors. \n",
    "\n",
    "In the following example we compute the median and replace errors with it."
   ]
  },
  {
   "cell_type": "code",
   "execution_count": 37,
   "id": "3ac213a2",
   "metadata": {},
   "outputs": [
    {
     "name": "stdout",
     "output_type": "stream",
     "text": [
      "median value to replace with : 0.00557\n"
     ]
    },
    {
     "data": {
      "text/plain": [
       "2     0.00557\n",
       "9     0.00557\n",
       "10    0.00557\n",
       "11    0.00557\n",
       "14    0.00557\n",
       "15    0.00557\n",
       "19    0.00557\n",
       "20    0.00557\n",
       "22    0.00557\n",
       "30    0.00557\n",
       "38    0.00557\n",
       "41    0.00557\n",
       "46    0.00557\n",
       "61    0.00557\n",
       "74    0.00557\n",
       "75    0.00557\n",
       "85    0.00557\n",
       "90    0.00557\n",
       "92    0.00557\n",
       "93    0.00557\n",
       "Name: pesticide_content(mg/kg), dtype: float64"
      ]
     },
     "execution_count": 37,
     "metadata": {},
     "output_type": "execute_result"
    }
   ],
   "source": [
    "median_value = s_gaussian.median()\n",
    "print(f\"median value to replace with : {median_value}\")\n",
    "s_gaussian.cleaner.clean(detector_obj=quantiles_detector, value=median_value, method=\"replace\")[quantiles_detector.index]"
   ]
  },
  {
   "cell_type": "markdown",
   "id": "fd31e6d0",
   "metadata": {},
   "source": [
    "### Drop\n",
    "Pandas-cleaner allows to drop entries containing errors in a similar way to dropna.\n",
    "The following code snippet removes the rows that have errors from the series."
   ]
  },
  {
   "cell_type": "code",
   "execution_count": 38,
   "id": "a33f9e11",
   "metadata": {},
   "outputs": [
    {
     "data": {
      "text/plain": [
       "0     0.00525\n",
       "1     0.00571\n",
       "3     0.00473\n",
       "4     0.00390\n",
       "5     0.00567\n",
       "       ...   \n",
       "95    0.00741\n",
       "96    0.00732\n",
       "97    0.00502\n",
       "98    0.00622\n",
       "99    0.00632\n",
       "Name: pesticide_content(mg/kg), Length: 80, dtype: float64"
      ]
     },
     "execution_count": 38,
     "metadata": {},
     "output_type": "execute_result"
    }
   ],
   "source": [
    "s_gaussian.cleaner.clean(detector_obj=quantiles_detector, method=\"drop\")"
   ]
  },
  {
   "cell_type": "markdown",
   "id": "6a7577eb",
   "metadata": {},
   "source": [
    "### Keys\n",
    "\n",
    "This cleaning method is mainly used with the key collision detector. It replaces values that have multiple representations by a single value.\n",
    "\n",
    "For example, in this dataset we had detected a few values that had alternative representations:"
   ]
  },
  {
   "cell_type": "code",
   "execution_count": 39,
   "id": "4d4b1bc0",
   "metadata": {},
   "outputs": [
    {
     "data": {
      "text/plain": [
       "1       granny,\n",
       "3        Granny\n",
       "18    de, Milan\n",
       "29      golden2\n",
       "38     de.Milan\n",
       "41     de milan\n",
       "45     Milan de\n",
       "55     DE NANCY\n",
       "Name: variety, dtype: object"
      ]
     },
     "execution_count": 39,
     "metadata": {},
     "output_type": "execute_result"
    }
   ],
   "source": [
    "keycollision_detector.detected"
   ]
  },
  {
   "cell_type": "markdown",
   "id": "5c89a2ab",
   "metadata": {},
   "source": [
    "These can be replaced by their most frequent representation :"
   ]
  },
  {
   "cell_type": "code",
   "execution_count": 40,
   "id": "5ce93d3d",
   "metadata": {},
   "outputs": [
    {
     "data": {
      "text/plain": [
       "1       granny\n",
       "3       granny\n",
       "18    de Milan\n",
       "29      golden\n",
       "38    de Milan\n",
       "41    de Milan\n",
       "45    de Milan\n",
       "55    de Nancy\n",
       "Name: variety, dtype: object"
      ]
     },
     "execution_count": 40,
     "metadata": {},
     "output_type": "execute_result"
    }
   ],
   "source": [
    "data[\"variety\"].cleaner.clean(detector_obj=keycollision_detector, method=\"bykeys\")[keycollision_detector.index]"
   ]
  },
  {
   "cell_type": "markdown",
   "id": "a34e4713",
   "metadata": {},
   "source": [
    "### Cleaning Inplace\n",
    "\n",
    "most cleaning method support cleaning the data inplace by modifying directly the treated dataframe or series. This can be simply done using the argument `inplace=True` in most cleaning methods.\n",
    "\n",
    "Here's an example:"
   ]
  },
  {
   "cell_type": "code",
   "execution_count": 41,
   "id": "2b08f814",
   "metadata": {},
   "outputs": [
    {
     "data": {
      "text/plain": [
       "0    0.00525\n",
       "1    0.00571\n",
       "2    0.00860\n",
       "3    0.00473\n",
       "4    0.00390\n",
       "Name: pesticide_content(mg/kg), dtype: float64"
      ]
     },
     "execution_count": 41,
     "metadata": {},
     "output_type": "execute_result"
    }
   ],
   "source": [
    "series_copy =  s_gaussian.copy()\n",
    "series_copy.head()"
   ]
  },
  {
   "cell_type": "markdown",
   "id": "76a834c8",
   "metadata": {},
   "source": [
    "#### Returning a New Series When Cleaning "
   ]
  },
  {
   "cell_type": "code",
   "execution_count": 42,
   "id": "7145ce80",
   "metadata": {},
   "outputs": [
    {
     "name": "stdout",
     "output_type": "stream",
     "text": [
      "Here's the clean series:\n",
      "2    NaN\n",
      "9    NaN\n",
      "10   NaN\n",
      "11   NaN\n",
      "14   NaN\n",
      "15   NaN\n",
      "19   NaN\n",
      "20   NaN\n",
      "22   NaN\n",
      "30   NaN\n",
      "38   NaN\n",
      "41   NaN\n",
      "46   NaN\n",
      "61   NaN\n",
      "74   NaN\n",
      "75   NaN\n",
      "85   NaN\n",
      "90   NaN\n",
      "92   NaN\n",
      "93   NaN\n",
      "Name: pesticide_content(mg/kg), dtype: float64\n",
      "And the original series is kept intact: \n",
      "2      0.00860\n",
      "9      0.00000\n",
      "10     0.00992\n",
      "11     0.00807\n",
      "14    56.00000\n",
      "15     0.00000\n",
      "19     0.00831\n",
      "20     0.00000\n",
      "22     0.00000\n",
      "30     0.00000\n",
      "38     0.00000\n",
      "41     0.00000\n",
      "46     0.00822\n",
      "61     0.00852\n",
      "74     0.00000\n",
      "75     0.00000\n",
      "85     0.00000\n",
      "90     0.01100\n",
      "92     0.00832\n",
      "93     0.00848\n",
      "Name: pesticide_content(mg/kg), dtype: float64\n"
     ]
    }
   ],
   "source": [
    "print(\"Here's the clean series:\")\n",
    "print(series_copy.cleaner.clean.to_na(detector_obj=quantiles_detector)[quantiles_detector.index])\n",
    "print(\"And the original series is kept intact: \")\n",
    "print(series_copy[quantiles_detector.index])"
   ]
  },
  {
   "cell_type": "markdown",
   "id": "7ffa2434",
   "metadata": {},
   "source": [
    "#### Cleaning Series Inplace "
   ]
  },
  {
   "cell_type": "code",
   "execution_count": 43,
   "id": "edc9490c",
   "metadata": {},
   "outputs": [
    {
     "name": "stdout",
     "output_type": "stream",
     "text": [
      "The series was cleaned inplace:\n"
     ]
    },
    {
     "data": {
      "text/plain": [
       "2    NaN\n",
       "9    NaN\n",
       "10   NaN\n",
       "11   NaN\n",
       "14   NaN\n",
       "15   NaN\n",
       "19   NaN\n",
       "20   NaN\n",
       "22   NaN\n",
       "30   NaN\n",
       "38   NaN\n",
       "41   NaN\n",
       "46   NaN\n",
       "61   NaN\n",
       "74   NaN\n",
       "75   NaN\n",
       "85   NaN\n",
       "90   NaN\n",
       "92   NaN\n",
       "93   NaN\n",
       "Name: pesticide_content(mg/kg), dtype: float64"
      ]
     },
     "execution_count": 43,
     "metadata": {},
     "output_type": "execute_result"
    }
   ],
   "source": [
    "series_copy.cleaner.clean.to_na(detector_obj=quantiles_detector, inplace=True)\n",
    "print(\"The series was cleaned inplace:\")\n",
    "series_copy[quantiles_detector.index]"
   ]
  },
  {
   "cell_type": "code",
   "execution_count": null,
   "id": "3daf044e",
   "metadata": {},
   "outputs": [],
   "source": []
  }
 ],
 "metadata": {
  "interpreter": {
   "hash": "703ca24be5df84d841d012d5ad58ea3627f38800985b18c41fa74c5dc4d6e62e"
  },
  "kernelspec": {
   "display_name": "Python 3 (ipykernel)",
   "language": "python",
   "name": "python3"
  },
  "language_info": {
   "codemirror_mode": {
    "name": "ipython",
    "version": 3
   },
   "file_extension": ".py",
   "mimetype": "text/x-python",
   "name": "python",
   "nbconvert_exporter": "python",
   "pygments_lexer": "ipython3",
   "version": "3.8.12"
  },
  "toc": {
   "base_numbering": 1,
   "nav_menu": {},
   "number_sections": true,
   "sideBar": true,
   "skip_h1_title": false,
   "title_cell": "Table of Contents",
   "title_sidebar": "Contents",
   "toc_cell": false,
   "toc_position": {
    "height": "calc(100% - 180px)",
    "left": "10px",
    "top": "150px",
    "width": "370.594px"
   },
   "toc_section_display": true,
   "toc_window_display": true
  }
 },
 "nbformat": 4,
 "nbformat_minor": 5
}
