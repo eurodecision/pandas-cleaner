{
 "cells": [
  {
   "cell_type": "code",
   "execution_count": 1,
   "id": "792aed13",
   "metadata": {},
   "outputs": [
    {
     "name": "stdout",
     "output_type": "stream",
     "text": [
      "extended path variable\n"
     ]
    }
   ],
   "source": [
    "%reload_ext autoreload\n",
    "%autoreload 2\n",
    "\n",
    "try:\n",
    "    import pdcleaner\n",
    "except ModuleNotFoundError:\n",
    "    print(\"extended path variable\")\n",
    "    import sys\n",
    "    sys.path.append('..')\n",
    "    import pdcleaner"
   ]
  },
  {
   "cell_type": "code",
   "execution_count": 2,
   "id": "2888639d",
   "metadata": {},
   "outputs": [],
   "source": [
    "import random\n",
    "\n",
    "import numpy as np\n",
    "import pandas as pd\n",
    "\n",
    "\n",
    "np.random.seed(seed=0)\n",
    "random.seed(0)"
   ]
  },
  {
   "cell_type": "code",
   "execution_count": 3,
   "id": "7b2a8e94",
   "metadata": {},
   "outputs": [],
   "source": [
    "def compute_sphere_volume(diameter):\n",
    "        return np.pi / 6  * (diameter**3)\n",
    "\n",
    "def generate_bounded_normal(n, distribution_info, precision=None):\n",
    "    if \"min\" not in distribution_info:\n",
    "        distribution_info[\"min\"] = np.NINF\n",
    "    if \"max\" not in distribution_info:\n",
    "        distribution_info[\"max\"] = np.inf\n",
    "\n",
    "    normal_values = np.random.normal(distribution_info[\"mu\"], distribution_info[\"sigma\"], n)\n",
    "    bounded_values = np.clip(normal_values, distribution_info[\"min\"], distribution_info[\"max\"])\n",
    "\n",
    "    if precision:\n",
    "        return bounded_values.round(precision)\n",
    "    return bounded_values\n",
    "    \n",
    "def generate_with_expr(base_series, expr, sigma_noise=None, precision=None):\n",
    "    values = base_series.apply(expr)\n",
    "    if sigma_noise:\n",
    "        noise = np.random.normal(0, sigma_noise, len(values))\n",
    "        values = values + noise\n",
    "    if precision:\n",
    "        return values.round(precision)\n",
    "    return values\n",
    "    \n",
    "def generate_category(category_name, n_samples, price_info, diameter_info, density, volume_noise=None):\n",
    "    \"\"\"\n",
    "    n_samples, price_info, diameter_info, weight_info\n",
    "    \"\"\"\n",
    "    \n",
    "    df = pd.DataFrame( [[category_name, np.nan, np.nan, np.nan]] * n_samples,\n",
    "            columns=[\"category\", \"price(euro)\", \"diameter(cm)\", \"weight(kg)\"])\n",
    "    \n",
    "    df[\"price(euro)\"] = generate_bounded_normal(n_samples, price_info, 2)\n",
    "    df[\"diameter(cm)\"] = generate_bounded_normal(n_samples, diameter_info, 1)\n",
    "    volme_series = generate_with_expr(df[\"diameter(cm)\"], compute_sphere_volume, sigma_noise=volume_noise)\n",
    "    df[\"weight(kg)\"] = (1e-3 * density * volme_series).round(3).clip(lower=0.)\n",
    "    \n",
    "    return df\n",
    "\n",
    "#diameter in cm, weight in kg"
   ]
  },
  {
   "cell_type": "code",
   "execution_count": 4,
   "id": "af453f5e",
   "metadata": {},
   "outputs": [],
   "source": [
    "#pomme\n",
    "n = 100\n",
    "price_info = {\"sigma\":1.5, \"mu\":3., \"min\":0.49, \"max\":7.99}\n",
    "diameter_info = {\"sigma\":1, \"mu\":7, \"min\":1., \"max\":12}\n",
    "mv = 0.84 #masse volumique en g/cm3\n",
    "df_pomme = generate_category(\"pomme\", n, price_info, diameter_info, mv, volume_noise=15)\n",
    "\n",
    "#cerise\n",
    "n = 100\n",
    "price_info = {\"sigma\":2.5, \"mu\":9., \"min\":4.99, \"max\":14.99}\n",
    "diameter_info = {\"sigma\":0.7, \"mu\":2.5, \"min\":1., \"max\":4.}\n",
    "mv = 0.64\n",
    "df_cerise = generate_category(\"cerise\", n, price_info, diameter_info, mv, volume_noise=1)\n",
    "\n",
    "#navet\n",
    "n = 30\n",
    "price_info = {\"sigma\":1., \"mu\":2.2, \"min\":0.29, \"max\":4.99}\n",
    "diameter_info = {\"sigma\":4., \"mu\":8., \"min\":4., \"max\":16.}\n",
    "mv = 0.6\n",
    "df_navet = generate_category(\"navet\", n, price_info, diameter_info, mv, volume_noise=20)"
   ]
  },
  {
   "cell_type": "code",
   "execution_count": 5,
   "id": "1fe520fa",
   "metadata": {},
   "outputs": [
    {
     "data": {
      "text/html": [
       "<div>\n",
       "<style scoped>\n",
       "    .dataframe tbody tr th:only-of-type {\n",
       "        vertical-align: middle;\n",
       "    }\n",
       "\n",
       "    .dataframe tbody tr th {\n",
       "        vertical-align: top;\n",
       "    }\n",
       "\n",
       "    .dataframe thead th {\n",
       "        text-align: right;\n",
       "    }\n",
       "</style>\n",
       "<table border=\"1\" class=\"dataframe\">\n",
       "  <thead>\n",
       "    <tr style=\"text-align: right;\">\n",
       "      <th></th>\n",
       "      <th>category</th>\n",
       "      <th>price</th>\n",
       "      <th>diameter</th>\n",
       "      <th>weight</th>\n",
       "    </tr>\n",
       "  </thead>\n",
       "  <tbody>\n",
       "    <tr>\n",
       "      <th>0</th>\n",
       "      <td>navet</td>\n",
       "      <td>1.82</td>\n",
       "      <td>13.4</td>\n",
       "      <td>0.760</td>\n",
       "    </tr>\n",
       "    <tr>\n",
       "      <th>1</th>\n",
       "      <td>pomme</td>\n",
       "      <td>2.53</td>\n",
       "      <td>6.5</td>\n",
       "      <td>0.095</td>\n",
       "    </tr>\n",
       "    <tr>\n",
       "      <th>2</th>\n",
       "      <td>pomme</td>\n",
       "      <td>2.96</td>\n",
       "      <td>6.9</td>\n",
       "      <td>0.153</td>\n",
       "    </tr>\n",
       "    <tr>\n",
       "      <th>3</th>\n",
       "      <td>pomme</td>\n",
       "      <td>2.23</td>\n",
       "      <td>6.3</td>\n",
       "      <td>0.112</td>\n",
       "    </tr>\n",
       "    <tr>\n",
       "      <th>4</th>\n",
       "      <td>pomme</td>\n",
       "      <td>3.18</td>\n",
       "      <td>8.9</td>\n",
       "      <td>0.304</td>\n",
       "    </tr>\n",
       "    <tr>\n",
       "      <th>...</th>\n",
       "      <td>...</td>\n",
       "      <td>...</td>\n",
       "      <td>...</td>\n",
       "      <td>...</td>\n",
       "    </tr>\n",
       "    <tr>\n",
       "      <th>95</th>\n",
       "      <td>pomme</td>\n",
       "      <td>1.53</td>\n",
       "      <td>8.9</td>\n",
       "      <td>0.290</td>\n",
       "    </tr>\n",
       "    <tr>\n",
       "      <th>96</th>\n",
       "      <td>pomme</td>\n",
       "      <td>2.05</td>\n",
       "      <td>5.9</td>\n",
       "      <td>0.070</td>\n",
       "    </tr>\n",
       "    <tr>\n",
       "      <th>97</th>\n",
       "      <td>cerise</td>\n",
       "      <td>11.85</td>\n",
       "      <td>2.1</td>\n",
       "      <td>0.003</td>\n",
       "    </tr>\n",
       "    <tr>\n",
       "      <th>98</th>\n",
       "      <td>pomme</td>\n",
       "      <td>0.49</td>\n",
       "      <td>7.1</td>\n",
       "      <td>0.157</td>\n",
       "    </tr>\n",
       "    <tr>\n",
       "      <th>99</th>\n",
       "      <td>cerise</td>\n",
       "      <td>8.12</td>\n",
       "      <td>3.3</td>\n",
       "      <td>0.012</td>\n",
       "    </tr>\n",
       "  </tbody>\n",
       "</table>\n",
       "<p>100 rows × 4 columns</p>\n",
       "</div>"
      ],
      "text/plain": [
       "   category  price  diameter  weight\n",
       "0     navet   1.82      13.4   0.760\n",
       "1     pomme   2.53       6.5   0.095\n",
       "2     pomme   2.96       6.9   0.153\n",
       "3     pomme   2.23       6.3   0.112\n",
       "4     pomme   3.18       8.9   0.304\n",
       "..      ...    ...       ...     ...\n",
       "95    pomme   1.53       8.9   0.290\n",
       "96    pomme   2.05       5.9   0.070\n",
       "97   cerise  11.85       2.1   0.003\n",
       "98    pomme   0.49       7.1   0.157\n",
       "99   cerise   8.12       3.3   0.012\n",
       "\n",
       "[100 rows x 4 columns]"
      ]
     },
     "execution_count": 5,
     "metadata": {},
     "output_type": "execute_result"
    }
   ],
   "source": [
    "n_samples = 100\n",
    "all_data = pd.concat([df_pomme, df_cerise, df_navet])\n",
    "data = all_data.sample(n=n_samples).reset_index(drop=True)\n",
    "data"
   ]
  },
  {
   "cell_type": "code",
   "execution_count": 6,
   "id": "961ef846",
   "metadata": {},
   "outputs": [
    {
     "data": {
      "text/plain": [
       "pomme     49\n",
       "cerise    36\n",
       "navet     15\n",
       "Name: category, dtype: int64"
      ]
     },
     "execution_count": 6,
     "metadata": {},
     "output_type": "execute_result"
    }
   ],
   "source": [
    "data.category.value_counts()"
   ]
  },
  {
   "cell_type": "markdown",
   "id": "4bb76874",
   "metadata": {},
   "source": [
    "rajouter une colonne de donnée à distribution normale : teneur en pesticide en mg/kg\n",
    "\n",
    "https://eur-lex.europa.eu/legal-content/FR/TXT/?uri=LEGISSUM%3Al21289"
   ]
  },
  {
   "cell_type": "code",
   "execution_count": 7,
   "id": "fb1ffac5",
   "metadata": {},
   "outputs": [
    {
     "name": "stdout",
     "output_type": "stream",
     "text": [
      "Int64Index([30, 9, 15, 74, 75, 38, 20, 41, 85, 22], dtype='int64')\n"
     ]
    },
    {
     "data": {
      "text/plain": [
       "array([<AxesSubplot:ylabel='data'>,\n",
       "       <AxesSubplot:xlabel='Count', ylabel='data'>,\n",
       "       <AxesSubplot:xlabel='Density', ylabel='data'>,\n",
       "       <AxesSubplot:ylabel='data'>], dtype=object)"
      ]
     },
     "execution_count": 7,
     "metadata": {},
     "output_type": "execute_result"
    },
    {
     "data": {
      "image/png": "[encoded data removed]",
      "text/plain": [
       "<Figure size 432x288 with 4 Axes>"
      ]
     },
     "metadata": {
      "needs_background": "light"
     },
     "output_type": "display_data"
    }
   ],
   "source": [
    "pesticide_info = {\"sigma\":0.0015, \"mu\":0.006}\n",
    "data[\"pesticide_content(mg/kg)\"] = generate_bounded_normal(data.shape[0], pesticide_info, precision=5)\n",
    "#noisy bio products with 0 pesticides\n",
    "random_indices = data.sample(10).index\n",
    "print(random_indices)\n",
    "data.loc[random_indices, \"pesticide_content(mg/kg)\"] = 0.\n",
    "\n",
    "data[\"pesticide_content(mg/kg)\"].cleaner.detect(\"iqr\", threshold=1.5).plot()"
   ]
  },
  {
   "cell_type": "code",
   "execution_count": 8,
   "id": "7eaf8a94",
   "metadata": {},
   "outputs": [
    {
     "data": {
      "text/plain": [
       "granny        26\n",
       "golden        23\n",
       "amarelles     19\n",
       "bigarreaux    17\n",
       "de Milan       8\n",
       "de Nancy       7\n",
       "Name: variety, dtype: int64"
      ]
     },
     "execution_count": 8,
     "metadata": {},
     "output_type": "execute_result"
    }
   ],
   "source": [
    "def generate_varieties(category_series):\n",
    "    dict_varieties = {\n",
    "        \"pomme\" : [\"golden\", \"granny\"],\n",
    "        \"cerise\" : [\"amarelles\", \"bigarreaux\"],\n",
    "        \"navet\" : [\"de Milan\", \"de Nancy\"]\n",
    "    }\n",
    "    \n",
    "    return category_series.apply(lambda x : random.choice(dict_varieties[x]))\n",
    "\n",
    "data[\"variety\"] =  generate_varieties(data.category)\n",
    "data.variety.value_counts()"
   ]
  },
  {
   "cell_type": "code",
   "execution_count": 9,
   "id": "8d94b277",
   "metadata": {},
   "outputs": [],
   "source": [
    "data.to_csv(\"data/clean_data.csv\")"
   ]
  }
 ],
 "metadata": {
  "kernelspec": {
   "display_name": "Python 3",
   "language": "python",
   "name": "python3"
  },
  "language_info": {
   "codemirror_mode": {
    "name": "ipython",
    "version": 3
   },
   "file_extension": ".py",
   "mimetype": "text/x-python",
   "name": "python",
   "nbconvert_exporter": "python",
   "pygments_lexer": "ipython3",
   "version": "3.8.0"
  },
  "toc": {
   "base_numbering": 1,
   "nav_menu": {},
   "number_sections": true,
   "sideBar": true,
   "skip_h1_title": false,
   "title_cell": "Table of Contents",
   "title_sidebar": "Contents",
   "toc_cell": false,
   "toc_position": {},
   "toc_section_display": true,
   "toc_window_display": false
  }
 },
 "nbformat": 4,
 "nbformat_minor": 5
}
